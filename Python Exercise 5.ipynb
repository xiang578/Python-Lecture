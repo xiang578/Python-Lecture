{
 "cells": [
  {
   "cell_type": "markdown",
   "metadata": {},
   "source": [
    "# Python Exercise 5\n",
    "\n",
    "## Problem 5-1:\n",
    "\n",
    "Write a function `remove_smaller` which accepts an array as a parameter and deletes all elements from the array which are smaller than any elements which came before. Write a docstring and doctests for your function.\n",
    "\n",
    "Example:\n",
    "```\n",
    "remove_smaller([1, 2, 4, 3, 5, 4, 6, 6, 3]) == [1, 2, 4, 5, 6, 6]\n",
    "```"
   ]
  },
  {
   "cell_type": "code",
   "execution_count": 46,
   "metadata": {
    "collapsed": false
   },
   "outputs": [
    {
     "data": {
      "text/plain": [
       "True"
      ]
     },
     "execution_count": 46,
     "metadata": {},
     "output_type": "execute_result"
    }
   ],
   "source": [
    "def remove_smaller(x):\n",
    "    if len(x)==0:\n",
    "        return []\n",
    "    y=[x[0]]\n",
    "    for i in range(1,len(x)):\n",
    "        if x[i]>=x[i-1]:\n",
    "            y.append(x[i])\n",
    "    return y\n",
    "remove_smaller([1, 2, 4, 3, 5, 4, 6, 6, 3]) == [1, 2, 4, 5, 6, 6]"
   ]
  },
  {
   "cell_type": "code",
   "execution_count": 55,
   "metadata": {
    "collapsed": false
   },
   "outputs": [
    {
     "data": {
      "text/plain": [
       "True"
      ]
     },
     "execution_count": 55,
     "metadata": {},
     "output_type": "execute_result"
    }
   ],
   "source": [
    "def remove_smaller(x):\n",
    "    y=x[:1]\n",
    "    for v in x[1:]:\n",
    "        if v >= y[-1]:\n",
    "            y.append(v)\n",
    "    return y\n",
    "remove_smaller([1, 2, 4, 3, 5, 4, 6, 6, 3]) == [1, 2, 4, 5, 6, 6]"
   ]
  },
  {
   "cell_type": "markdown",
   "metadata": {
    "collapsed": true
   },
   "source": [
    "## Problem 5-2:\n",
    "\n",
    "Write a functions `make_primes` which accepts a parameter `n` and returns an array to first `n` prime numbers. \n",
    "\n",
    "Examples:\n",
    "```\n",
    "make_primes(5) == [2, 3, 5, 7, 11]\n",
    "make_primes(7) == [2, 3, 5, 7, 11, 13, 17]\n",
    "```"
   ]
  },
  {
   "cell_type": "code",
   "execution_count": 47,
   "metadata": {
    "collapsed": false
   },
   "outputs": [
    {
     "data": {
      "text/plain": [
       "[]"
      ]
     },
     "execution_count": 47,
     "metadata": {},
     "output_type": "execute_result"
    }
   ],
   "source": [
    "def make_primes(n):\n",
    "    num=2;\n",
    "    cnt=0\n",
    "    x=[]\n",
    "    while cnt<n:\n",
    "        ok=0\n",
    "        for i in range(2,num):\n",
    "            if num%i==0:\n",
    "                ok=1\n",
    "                break\n",
    "        if ok==0:\n",
    "            x.append(num)\n",
    "            cnt=cnt+1\n",
    "        num+=1\n",
    "    return x\n",
    "\n",
    "# make_primes(7) == [2, 3, 5, 7, 11, 13, 17]\n",
    "make_primes(0)"
   ]
  },
  {
   "cell_type": "code",
   "execution_count": 32,
   "metadata": {
    "collapsed": false
   },
   "outputs": [
    {
     "name": "stdout",
     "output_type": "stream",
     "text": [
      "1\n",
      "2\n",
      "3\n"
     ]
    }
   ],
   "source": []
  },
  {
   "cell_type": "markdown",
   "metadata": {},
   "source": [
    "## Problem 5-3:\n",
    "\n",
    "Write a function `pascal` which accepts an parameter `n` and prints the first `n` rows of **Pascal's triangle**. Example:\n",
    "\n",
    "```\n",
    "pascal(6)\n",
    "1\n",
    "1  1\n",
    "1  2  1\n",
    "1  3  3  1\n",
    "1  4  6  4  1\n",
    "1  5 10 10  5  1\n",
    "```"
   ]
  },
  {
   "cell_type": "code",
   "execution_count": 41,
   "metadata": {
    "collapsed": false
   },
   "outputs": [
    {
     "name": "stdout",
     "output_type": "stream",
     "text": [
      "1  \n",
      "1  1  \n",
      "1  2  1  \n",
      "1  3  3  1  \n",
      "1  4  6  4  1  \n",
      "1  5  10  10  5  1  \n"
     ]
    }
   ],
   "source": [
    "def f(n):\n",
    "    if n==0:\n",
    "        return 1\n",
    "    else :\n",
    "        return n*f(n-1)\n",
    "\n",
    "def pascal(n):\n",
    "    for i in range(0,n):\n",
    "        x=[]\n",
    "        for j in range(i+1):\n",
    "            y=f(i)/f(j)/f(i-j)\n",
    "            x.append(int(y))\n",
    "        for a in x:\n",
    "            print(a, end=\"\")\n",
    "            print(\"  \", end=\"\")\n",
    "        print(\"\")\n",
    "pascal(6)"
   ]
  }
 ],
 "metadata": {
  "kernelspec": {
   "display_name": "Python 3",
   "language": "python",
   "name": "python3"
  },
  "language_info": {
   "codemirror_mode": {
    "name": "ipython",
    "version": 3
   },
   "file_extension": ".py",
   "mimetype": "text/x-python",
   "name": "python",
   "nbconvert_exporter": "python",
   "pygments_lexer": "ipython3",
   "version": "3.6.0"
  }
 },
 "nbformat": 4,
 "nbformat_minor": 2
}
