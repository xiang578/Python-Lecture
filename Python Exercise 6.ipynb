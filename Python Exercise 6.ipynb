{
 "cells": [
  {
   "cell_type": "markdown",
   "metadata": {},
   "source": [
    "# Python Exercise 6\n",
    "\n",
    "### Problem 6-1: Understanding variable scope\n",
    "\n",
    "What is the output of the following code? First try to think about it before you actually run the code:"
   ]
  },
  {
   "cell_type": "code",
   "execution_count": 120,
   "metadata": {
    "collapsed": false
   },
   "outputs": [
    {
     "name": "stdout",
     "output_type": "stream",
     "text": [
      "1 2 3\n",
      "11\n",
      "7\n",
      "14\n",
      "14\n",
      "11 2 3\n"
     ]
    }
   ],
   "source": [
    "x, y, z = 1, 2, 3\n",
    "\n",
    "print(x, y, z)\n",
    "def f():\n",
    "    global x\n",
    "    x += 10 #11\n",
    "    y = 10 #10\n",
    "    def g():\n",
    "        print(x) #11\n",
    "        y = 7 #7\n",
    "        print(y)\n",
    "        def h():\n",
    "            nonlocal y\n",
    "            y += 7 #14\n",
    "            print(y) #14\n",
    "        h()\n",
    "        print(y) #14\n",
    "    g()\n",
    "f()\n",
    "print(x, y, z)"
   ]
  },
  {
   "cell_type": "markdown",
   "metadata": {
    "collapsed": true
   },
   "source": [
    "## Problem 6-2: JSON documents\n",
    "\n",
    "JSON (**J**ava**S**cript **O**bject **N**otation is a very popular data exchange format. The following is a an example of a JSON object:\n",
    "\n",
    "```\n",
    "{\n",
    "  \"name\": \"Peter\",\n",
    "  \"age\": 25,\n",
    "  \"grades\": [1.0, 1.5, 2.5],\n",
    "  \"passed\": false,\n",
    "  \"contact\": {\n",
    "      \"phone\": \"123456789\",\n",
    "      \"email\": \"peter@163.com\"\n",
    "  }\n",
    "}\n",
    "```\n",
    "\n",
    "JSON object look very much like Python dictionaries: they are key value pairs (keys are always strings) where values can be strings, numbers, Boolean values `true`/`false`, arrays (in between `[` and `]`) and other JSON objects.\n",
    "\n",
    "Inside Python we can use the `json` package to convert strings representing JSON objects to Python dictionaries and vice versa:"
   ]
  },
  {
   "cell_type": "code",
   "execution_count": 121,
   "metadata": {
    "collapsed": false
   },
   "outputs": [
    {
     "name": "stdout",
     "output_type": "stream",
     "text": [
      "{'name': 'Peter', 'age': 25, 'grades': [1.0, 1.5, 2.5], 'passed': False, 'contact': {'phone': '123456789', 'email': 'peter@163.com'}}\n",
      "Peter\n",
      "2.5\n",
      "123456789\n"
     ]
    }
   ],
   "source": [
    "import json\n",
    "json_string = \"\"\"\n",
    "{\n",
    "  \"name\": \"Peter\",\n",
    "  \"age\": 25,\n",
    "  \"grades\": [1.0, 1.5, 2.5],\n",
    "  \"passed\": false,\n",
    "  \"contact\": {\n",
    "      \"phone\": \"123456789\",\n",
    "      \"email\": \"peter@163.com\"\n",
    "  }\n",
    "}\n",
    "\"\"\"\n",
    "\n",
    "dictionary = json.loads(json_string)\n",
    "print(dictionary)\n",
    "print(dictionary['name'])\n",
    "print(dictionary['grades'][2])\n",
    "print(dictionary['contact']['phone'])"
   ]
  },
  {
   "cell_type": "markdown",
   "metadata": {},
   "source": [
    "The `json` module contains the following functions (among others, you can use `dir(json)` to find the other functions):\n",
    "\n",
    "* `json.loads` to convert a JSON string to a Python object\n",
    "* `json.load` to load a Python object from a file containing JSON data\n",
    "* `json.dumps` to convert a Python object to a JSON string\n",
    "* `json.dump` to save a JSON object to a file.\n",
    "\n",
    "For example, the following code saves Peter's data to a file called `peter.json`:"
   ]
  },
  {
   "cell_type": "code",
   "execution_count": 122,
   "metadata": {
    "collapsed": false
   },
   "outputs": [],
   "source": [
    "with open('peter.json', 'w') as f:\n",
    "    json.dump(dictionary, f)\n",
    "    "
   ]
  },
  {
   "cell_type": "markdown",
   "metadata": {},
   "source": [
    "and the following code reads it back into Python:"
   ]
  },
  {
   "cell_type": "code",
   "execution_count": 123,
   "metadata": {
    "collapsed": false
   },
   "outputs": [
    {
     "name": "stdout",
     "output_type": "stream",
     "text": [
      "Hello Peter\n"
     ]
    }
   ],
   "source": [
    "with open('peter.json', 'r') as f:\n",
    "    peter = json.load(f)\n",
    "    print('Hello', peter['name'])"
   ]
  },
  {
   "cell_type": "markdown",
   "metadata": {},
   "source": [
    "The following string contains the names and grades of some students:"
   ]
  },
  {
   "cell_type": "code",
   "execution_count": 124,
   "metadata": {
    "collapsed": true
   },
   "outputs": [],
   "source": [
    "grades = \"\"\"Fred,48,49,35,55,66,65,48,1,60,63\n",
    "Peter,46,27,9,10,99,70,4,5,12,32\n",
    "Bill,1,29,59,21,81,82,17,79,68,54\n",
    "Sammy,3,27,38,19,45,30,82,18,92,100\n",
    "Tom,62,40,11,15,86,11,4,15,58,97\n",
    "Sarah,43,94,76,57,46,17,78,99,65,98\n",
    "Anthony,19,6,73,42,98,6,67,86,40,23\n",
    "Barny,24,58,45,23,54,53,97,58,85,87\n",
    "Philip,42,17,28,31,91,31,70,36,41,21\n",
    "Zach,61,78,83,65,55,96,75,27,91,82\n",
    "Betty,63,30,1,94,79,25,93,86,71,74\n",
    "Chris,90,41,18,21,2,11,39,55,58,21\n",
    "Sarah,77,17,26,77,93,80,76,93,46,29\n",
    "Tim,95,47,3,3,6,27,76,29,9,29\n",
    "Dick,75,76,14,65,39,60,84,21,60,77\n",
    "Donald,51,61,35,36,38,31,82,28,91,87\n",
    "Angela,78,48,53,50,64,14,83,8,45,9\n",
    "\"\"\""
   ]
  },
  {
   "cell_type": "markdown",
   "metadata": {},
   "source": [
    "Write a function `convert_grade` which takes a string of same form as a line in `grades` and converts it into a JSON document of the following form:\n",
    "\n",
    "```\n",
    "{\n",
    "   \"name\": \"Fred\"\n",
    "   \"grades\": {\n",
    "      \"quizzes\": [48, 49, 35, 55, 66, 65],\n",
    "      \"homework\": [48, 1, 60],\n",
    "      \"exam\": 63\n",
    "   }\n",
    "}\n",
    "```\n",
    "The function should return a Python object."
   ]
  },
  {
   "cell_type": "code",
   "execution_count": 125,
   "metadata": {
    "collapsed": false
   },
   "outputs": [],
   "source": [
    "def convert_grade(s):\n",
    "    a=s.split(',');\n",
    "    x=[int(i) for i in a[1:]]\n",
    "    d={}\n",
    "    d[\"name\"]=a[0]\n",
    "    d[\"grades\"]={}\n",
    "    d[\"grades\"][\"quizzes\"]= x[0:6]\n",
    "    d[\"grades\"][\"homework\"]=x[6:9]\n",
    "    d[\"grades\"][\"exam\"]=x[9]\n",
    "    return d"
   ]
  },
  {
   "cell_type": "markdown",
   "metadata": {},
   "source": [
    "Now apply the function to each line `grades` to obtain a list of Python objects. The `str.splitlines()` functions might be useful:"
   ]
  },
  {
   "cell_type": "code",
   "execution_count": 126,
   "metadata": {
    "collapsed": false
   },
   "outputs": [
    {
     "data": {
      "text/plain": [
       "[{'grades': {'exam': 63,\n",
       "   'homework': [48, 1, 60],\n",
       "   'quizzes': [48, 49, 35, 55, 66, 65]},\n",
       "  'name': 'Fred'},\n",
       " {'grades': {'exam': 32,\n",
       "   'homework': [4, 5, 12],\n",
       "   'quizzes': [46, 27, 9, 10, 99, 70]},\n",
       "  'name': 'Peter'},\n",
       " {'grades': {'exam': 54,\n",
       "   'homework': [17, 79, 68],\n",
       "   'quizzes': [1, 29, 59, 21, 81, 82]},\n",
       "  'name': 'Bill'},\n",
       " {'grades': {'exam': 100,\n",
       "   'homework': [82, 18, 92],\n",
       "   'quizzes': [3, 27, 38, 19, 45, 30]},\n",
       "  'name': 'Sammy'},\n",
       " {'grades': {'exam': 97,\n",
       "   'homework': [4, 15, 58],\n",
       "   'quizzes': [62, 40, 11, 15, 86, 11]},\n",
       "  'name': 'Tom'},\n",
       " {'grades': {'exam': 98,\n",
       "   'homework': [78, 99, 65],\n",
       "   'quizzes': [43, 94, 76, 57, 46, 17]},\n",
       "  'name': 'Sarah'},\n",
       " {'grades': {'exam': 23,\n",
       "   'homework': [67, 86, 40],\n",
       "   'quizzes': [19, 6, 73, 42, 98, 6]},\n",
       "  'name': 'Anthony'},\n",
       " {'grades': {'exam': 87,\n",
       "   'homework': [97, 58, 85],\n",
       "   'quizzes': [24, 58, 45, 23, 54, 53]},\n",
       "  'name': 'Barny'},\n",
       " {'grades': {'exam': 21,\n",
       "   'homework': [70, 36, 41],\n",
       "   'quizzes': [42, 17, 28, 31, 91, 31]},\n",
       "  'name': 'Philip'},\n",
       " {'grades': {'exam': 82,\n",
       "   'homework': [75, 27, 91],\n",
       "   'quizzes': [61, 78, 83, 65, 55, 96]},\n",
       "  'name': 'Zach'},\n",
       " {'grades': {'exam': 74,\n",
       "   'homework': [93, 86, 71],\n",
       "   'quizzes': [63, 30, 1, 94, 79, 25]},\n",
       "  'name': 'Betty'},\n",
       " {'grades': {'exam': 21,\n",
       "   'homework': [39, 55, 58],\n",
       "   'quizzes': [90, 41, 18, 21, 2, 11]},\n",
       "  'name': 'Chris'},\n",
       " {'grades': {'exam': 29,\n",
       "   'homework': [76, 93, 46],\n",
       "   'quizzes': [77, 17, 26, 77, 93, 80]},\n",
       "  'name': 'Sarah'},\n",
       " {'grades': {'exam': 29,\n",
       "   'homework': [76, 29, 9],\n",
       "   'quizzes': [95, 47, 3, 3, 6, 27]},\n",
       "  'name': 'Tim'},\n",
       " {'grades': {'exam': 77,\n",
       "   'homework': [84, 21, 60],\n",
       "   'quizzes': [75, 76, 14, 65, 39, 60]},\n",
       "  'name': 'Dick'},\n",
       " {'grades': {'exam': 87,\n",
       "   'homework': [82, 28, 91],\n",
       "   'quizzes': [51, 61, 35, 36, 38, 31]},\n",
       "  'name': 'Donald'},\n",
       " {'grades': {'exam': 9,\n",
       "   'homework': [83, 8, 45],\n",
       "   'quizzes': [78, 48, 53, 50, 64, 14]},\n",
       "  'name': 'Angela'}]"
      ]
     },
     "execution_count": 126,
     "metadata": {},
     "output_type": "execute_result"
    }
   ],
   "source": [
    "#a=\"Fred,48,49,35,55,66,65,48,1,60,63\"\n",
    "#convert_grade(a)\n",
    "alist=[convert_grade(c) for c in grades.splitlines()]\n",
    "alist\n",
    "#s=grades.splitlines()\n",
    "#alist=[]\n",
    "#for c in s:\n",
    "#    a=convert_grade(c)\n",
    "#    alist.append(a)\n",
    "#alist"
   ]
  },
  {
   "cell_type": "markdown",
   "metadata": {},
   "source": [
    "Write a function `calculate_score` which takes a Python object representing a grade and then calculates the final score:\n",
    "\n",
    "* first calculate the average quiz-score,\n",
    "* calculate the average homework score,\n",
    "* calculate the final score as $$\\frac{\\text{average quiz} + \\text{average homework} + \\text{exam}}{3}$$\n",
    "\n",
    "The `calculate_score` function should get a single Python dictionary and modify it as follows:\n",
    "```\n",
    "{\n",
    "   \"name\": \"Fred\"\n",
    "   \"grades\": {\n",
    "      \"quizzes\": {\n",
    "          \"raw\": [48, 49, 35, 55, 66, 65],\n",
    "          \"avg\": 53.0\n",
    "      },\n",
    "      \"homework\": {\n",
    "          \"raw\": [48, 1, 60],\n",
    "          \"avg\": 36.3333\n",
    "      },\n",
    "      \"exam\": 63,\n",
    "      \"final\": 50.7777778\n",
    "   }\n",
    "}\n",
    "```"
   ]
  },
  {
   "cell_type": "code",
   "execution_count": 127,
   "metadata": {
    "collapsed": false
   },
   "outputs": [],
   "source": [
    "def calculate_score(d):\n",
    "    final=0\n",
    "    raw=d[\"grades\"][\"quizzes\"]\n",
    "    d[\"grades\"][\"quizzes\"]={}\n",
    "    avg=sum(raw)/len(raw)\n",
    "    final=avg+final\n",
    "    d[\"grades\"][\"quizzes\"][\"raw\"]=raw\n",
    "    d[\"grades\"][\"quizzes\"][\"avg\"]=avg\n",
    "    \n",
    "    raw=d[\"grades\"][\"homework\"]\n",
    "    d[\"grades\"][\"homework\"]={}\n",
    "    avg=sum(raw)/len(raw)\n",
    "    final=avg+final\n",
    "    d[\"grades\"][\"homework\"][\"raw\"]=raw\n",
    "    d[\"grades\"][\"homework\"][\"avg\"]=avg\n",
    "    \n",
    "    final=final+d[\"grades\"][\"exam\"];\n",
    "    final=final/3\n",
    "    d[\"grades\"][\"final\"]=final\n",
    "    return d"
   ]
  },
  {
   "cell_type": "markdown",
   "metadata": {},
   "source": [
    "Now use the `calculate_score` function to calculate the scores of each student in the list. You obtain a list `final_scores` of Python dictionaries.  "
   ]
  },
  {
   "cell_type": "code",
   "execution_count": 128,
   "metadata": {
    "collapsed": false
   },
   "outputs": [
    {
     "data": {
      "text/plain": [
       "[{'grades': {'exam': 63,\n",
       "   'final': 50.77777777777778,\n",
       "   'homework': {'avg': 36.333333333333336, 'raw': [48, 1, 60]},\n",
       "   'quizzes': {'avg': 53.0, 'raw': [48, 49, 35, 55, 66, 65]}},\n",
       "  'name': 'Fred'},\n",
       " {'grades': {'exam': 32,\n",
       "   'final': 27.5,\n",
       "   'homework': {'avg': 7.0, 'raw': [4, 5, 12]},\n",
       "   'quizzes': {'avg': 43.5, 'raw': [46, 27, 9, 10, 99, 70]}},\n",
       "  'name': 'Peter'},\n",
       " {'grades': {'exam': 54,\n",
       "   'final': 51.388888888888886,\n",
       "   'homework': {'avg': 54.666666666666664, 'raw': [17, 79, 68]},\n",
       "   'quizzes': {'avg': 45.5, 'raw': [1, 29, 59, 21, 81, 82]}},\n",
       "  'name': 'Bill'},\n",
       " {'grades': {'exam': 100,\n",
       "   'final': 63.666666666666664,\n",
       "   'homework': {'avg': 64.0, 'raw': [82, 18, 92]},\n",
       "   'quizzes': {'avg': 27.0, 'raw': [3, 27, 38, 19, 45, 30]}},\n",
       "  'name': 'Sammy'},\n",
       " {'grades': {'exam': 97,\n",
       "   'final': 53.38888888888889,\n",
       "   'homework': {'avg': 25.666666666666668, 'raw': [4, 15, 58]},\n",
       "   'quizzes': {'avg': 37.5, 'raw': [62, 40, 11, 15, 86, 11]}},\n",
       "  'name': 'Tom'},\n",
       " {'grades': {'exam': 98,\n",
       "   'final': 78.05555555555556,\n",
       "   'homework': {'avg': 80.66666666666667, 'raw': [78, 99, 65]},\n",
       "   'quizzes': {'avg': 55.5, 'raw': [43, 94, 76, 57, 46, 17]}},\n",
       "  'name': 'Sarah'},\n",
       " {'grades': {'exam': 23,\n",
       "   'final': 42.666666666666664,\n",
       "   'homework': {'avg': 64.33333333333333, 'raw': [67, 86, 40]},\n",
       "   'quizzes': {'avg': 40.666666666666664, 'raw': [19, 6, 73, 42, 98, 6]}},\n",
       "  'name': 'Anthony'},\n",
       " {'grades': {'exam': 87,\n",
       "   'final': 69.94444444444444,\n",
       "   'homework': {'avg': 80.0, 'raw': [97, 58, 85]},\n",
       "   'quizzes': {'avg': 42.833333333333336, 'raw': [24, 58, 45, 23, 54, 53]}},\n",
       "  'name': 'Barny'},\n",
       " {'grades': {'exam': 21,\n",
       "   'final': 36.666666666666664,\n",
       "   'homework': {'avg': 49.0, 'raw': [70, 36, 41]},\n",
       "   'quizzes': {'avg': 40.0, 'raw': [42, 17, 28, 31, 91, 31]}},\n",
       "  'name': 'Philip'},\n",
       " {'grades': {'exam': 82,\n",
       "   'final': 73.1111111111111,\n",
       "   'homework': {'avg': 64.33333333333333, 'raw': [75, 27, 91]},\n",
       "   'quizzes': {'avg': 73.0, 'raw': [61, 78, 83, 65, 55, 96]}},\n",
       "  'name': 'Zach'},\n",
       " {'grades': {'exam': 74,\n",
       "   'final': 68.66666666666667,\n",
       "   'homework': {'avg': 83.33333333333333, 'raw': [93, 86, 71]},\n",
       "   'quizzes': {'avg': 48.666666666666664, 'raw': [63, 30, 1, 94, 79, 25]}},\n",
       "  'name': 'Betty'},\n",
       " {'grades': {'exam': 21,\n",
       "   'final': 34.05555555555555,\n",
       "   'homework': {'avg': 50.666666666666664, 'raw': [39, 55, 58]},\n",
       "   'quizzes': {'avg': 30.5, 'raw': [90, 41, 18, 21, 2, 11]}},\n",
       "  'name': 'Chris'},\n",
       " {'grades': {'exam': 29,\n",
       "   'final': 54.111111111111114,\n",
       "   'homework': {'avg': 71.66666666666667, 'raw': [76, 93, 46]},\n",
       "   'quizzes': {'avg': 61.666666666666664, 'raw': [77, 17, 26, 77, 93, 80]}},\n",
       "  'name': 'Sarah'},\n",
       " {'grades': {'exam': 29,\n",
       "   'final': 32.38888888888889,\n",
       "   'homework': {'avg': 38.0, 'raw': [76, 29, 9]},\n",
       "   'quizzes': {'avg': 30.166666666666668, 'raw': [95, 47, 3, 3, 6, 27]}},\n",
       "  'name': 'Tim'},\n",
       " {'grades': {'exam': 77,\n",
       "   'final': 62.27777777777778,\n",
       "   'homework': {'avg': 55.0, 'raw': [84, 21, 60]},\n",
       "   'quizzes': {'avg': 54.833333333333336, 'raw': [75, 76, 14, 65, 39, 60]}},\n",
       "  'name': 'Dick'},\n",
       " {'grades': {'exam': 87,\n",
       "   'final': 65.33333333333333,\n",
       "   'homework': {'avg': 67.0, 'raw': [82, 28, 91]},\n",
       "   'quizzes': {'avg': 42.0, 'raw': [51, 61, 35, 36, 38, 31]}},\n",
       "  'name': 'Donald'},\n",
       " {'grades': {'exam': 9,\n",
       "   'final': 35.166666666666664,\n",
       "   'homework': {'avg': 45.333333333333336, 'raw': [83, 8, 45]},\n",
       "   'quizzes': {'avg': 51.166666666666664, 'raw': [78, 48, 53, 50, 64, 14]}},\n",
       "  'name': 'Angela'}]"
      ]
     },
     "execution_count": 128,
     "metadata": {},
     "output_type": "execute_result"
    }
   ],
   "source": [
    "#a=\"Fred,48,49,35,55,66,65,48,1,60,63\"\n",
    "#a=convert_grade(a)\n",
    "#calculate_score(alist[0])\n",
    "#a\n",
    "#alist[1]\n",
    "final_scores = [ calculate_score(a) for a in alist]\n",
    "final_scores"
   ]
  },
  {
   "cell_type": "markdown",
   "metadata": {},
   "source": [
    "Save the list `final_scores` into a file called `final_grades.json`:"
   ]
  },
  {
   "cell_type": "code",
   "execution_count": 129,
   "metadata": {
    "collapsed": true
   },
   "outputs": [],
   "source": [
    "with open('final_grades.json', 'w') as f:\n",
    "    json.dump(final_scores, f)"
   ]
  },
  {
   "cell_type": "markdown",
   "metadata": {},
   "source": [
    "Open the file `final_grades.json` and read the contents into a list of Python dictionaries. Use this list to calculate the average `exam` and `final` score for all the students in the class:"
   ]
  },
  {
   "cell_type": "code",
   "execution_count": 130,
   "metadata": {
    "collapsed": false
   },
   "outputs": [
    {
     "name": "stdout",
     "output_type": "stream",
     "text": [
      "exam 57.8235294117647\n",
      "final 52.892156862745104\n"
     ]
    }
   ],
   "source": [
    "with open('final_grades.json', 'r') as f:\n",
    "     tmp=json.load(f)\n",
    "exams=[t[\"grades\"][\"exam\"] for t in tmp]\n",
    "finals=[t[\"grades\"][\"final\"] for t in tmp]\n",
    "print(\"exam\",sum(exams)/len(exams))\n",
    "print(\"final\",sum(finals)/len(finals))"
   ]
  }
 ],
 "metadata": {
  "kernelspec": {
   "display_name": "Python 3",
   "language": "python",
   "name": "python3"
  },
  "language_info": {
   "codemirror_mode": {
    "name": "ipython",
    "version": 3
   },
   "file_extension": ".py",
   "mimetype": "text/x-python",
   "name": "python",
   "nbconvert_exporter": "python",
   "pygments_lexer": "ipython3",
   "version": "3.6.0"
  }
 },
 "nbformat": 4,
 "nbformat_minor": 2
}
