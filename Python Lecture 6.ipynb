{
 "cells": [
  {
   "cell_type": "markdown",
   "metadata": {},
   "source": [
    "# Python Lecture 6\n",
    "\n",
    "Let's first have a look at the quizzes:"
   ]
  },
  {
   "cell_type": "code",
   "execution_count": 3,
   "metadata": {
    "collapsed": false
   },
   "outputs": [
    {
     "data": {
      "text/plain": [
       "{3: 9, 5: 25, 7: 49}"
      ]
     },
     "execution_count": 3,
     "metadata": {},
     "output_type": "execute_result"
    }
   ],
   "source": [
    "our_list = [3, 5, 7, 8, 12, 7, 9, 11, 33]\n",
    "result = {}\n",
    "for k in our_list:\n",
    "    if k % 4 == 0:\n",
    "        continue\n",
    "    if k in result:\n",
    "        break\n",
    "    result[k] = k ** 2\n",
    "result"
   ]
  },
  {
   "cell_type": "code",
   "execution_count": null,
   "metadata": {
    "collapsed": true
   },
   "outputs": [],
   "source": []
  },
  {
   "cell_type": "code",
   "execution_count": 4,
   "metadata": {
    "collapsed": false
   },
   "outputs": [
    {
     "data": {
      "text/plain": [
       "{5: 25, 8: 64, 11: 121}"
      ]
     },
     "execution_count": 4,
     "metadata": {},
     "output_type": "execute_result"
    }
   ],
   "source": [
    "our_list = [3, 5, 6, 11, 6, 8, 5, 9, 11, 33]\n",
    "result = {}\n",
    "for k in our_list:\n",
    "    if k % 3 == 0:\n",
    "        continue\n",
    "    if k in result:\n",
    "        break\n",
    "    result[k] = k ** 2\n",
    "result"
   ]
  },
  {
   "cell_type": "code",
   "execution_count": null,
   "metadata": {
    "collapsed": true
   },
   "outputs": [],
   "source": []
  },
  {
   "cell_type": "markdown",
   "metadata": {},
   "source": [
    "## Functions in Python"
   ]
  },
  {
   "cell_type": "code",
   "execution_count": 6,
   "metadata": {
    "collapsed": false
   },
   "outputs": [],
   "source": [
    "def square(x):\n",
    "    return x * x"
   ]
  },
  {
   "cell_type": "code",
   "execution_count": 7,
   "metadata": {
    "collapsed": false
   },
   "outputs": [
    {
     "data": {
      "text/plain": [
       "49"
      ]
     },
     "execution_count": 7,
     "metadata": {},
     "output_type": "execute_result"
    }
   ],
   "source": [
    "square(7)"
   ]
  },
  {
   "cell_type": "code",
   "execution_count": 8,
   "metadata": {
    "collapsed": true
   },
   "outputs": [],
   "source": [
    "def power(base, exponent):\n",
    "    return base ** exponent"
   ]
  },
  {
   "cell_type": "code",
   "execution_count": 9,
   "metadata": {
    "collapsed": false
   },
   "outputs": [
    {
     "data": {
      "text/plain": [
       "1024"
      ]
     },
     "execution_count": 9,
     "metadata": {},
     "output_type": "execute_result"
    }
   ],
   "source": [
    "power(2, 10)"
   ]
  },
  {
   "cell_type": "code",
   "execution_count": 10,
   "metadata": {
    "collapsed": false
   },
   "outputs": [
    {
     "data": {
      "text/plain": [
       "75"
      ]
     },
     "execution_count": 10,
     "metadata": {},
     "output_type": "execute_result"
    }
   ],
   "source": [
    "def power3(value, base, exponent):\n",
    "    return 3 * (base ** exponent)\n",
    "power3(3, 5, 2) #calling power3 by 'positional arguments'"
   ]
  },
  {
   "cell_type": "code",
   "execution_count": 12,
   "metadata": {
    "collapsed": false
   },
   "outputs": [
    {
     "data": {
      "text/plain": [
       "75"
      ]
     },
     "execution_count": 12,
     "metadata": {},
     "output_type": "execute_result"
    }
   ],
   "source": [
    "power3(exponent=2, value=3, base=5)\n",
    "#calling power3 by keyword arguments"
   ]
  },
  {
   "cell_type": "markdown",
   "metadata": {},
   "source": [
    "## Default arguments"
   ]
  },
  {
   "cell_type": "code",
   "execution_count": 14,
   "metadata": {
    "collapsed": false
   },
   "outputs": [],
   "source": [
    "def powerd(value=1, base=10, exponent=2):\n",
    "    return value * (base ** exponent)"
   ]
  },
  {
   "cell_type": "code",
   "execution_count": 20,
   "metadata": {
    "collapsed": false
   },
   "outputs": [
    {
     "name": "stdout",
     "output_type": "stream",
     "text": [
      "100\n",
      "200\n",
      "8\n",
      "1024\n"
     ]
    }
   ],
   "source": [
    "print( powerd() )     #value=1, base=10, exponent=2\n",
    "print( powerd(2) )    #value=2, base=10, exponent=2\n",
    "print( powerd(2, 2))  #value=2, base=2, exponent=2\n",
    "print( powerd(1, 2, 10)) "
   ]
  },
  {
   "cell_type": "code",
   "execution_count": 24,
   "metadata": {
    "collapsed": false
   },
   "outputs": [
    {
     "name": "stdout",
     "output_type": "stream",
     "text": [
      "4\n",
      "1000\n",
      "50\n",
      "50\n"
     ]
    }
   ],
   "source": [
    "print( powerd(base=2) ) #value=1, base=2, exponent=2\n",
    "print( powerd(exponent=3)) #value=1, base=10, exponent=3\n",
    "print( powerd(value=5, exponent=1)) #value=5, base=10, exponent=1\n",
    "print( powerd(exponent=1, value=5))"
   ]
  },
  {
   "cell_type": "code",
   "execution_count": 27,
   "metadata": {
    "collapsed": false
   },
   "outputs": [
    {
     "name": "stdout",
     "output_type": "stream",
     "text": [
      "Help on built-in function sorted in module builtins:\n",
      "\n",
      "sorted(iterable, key=None, reverse=False)\n",
      "    Return a new list containing all items from the iterable in ascending order.\n",
      "    \n",
      "    A custom key function can be supplied to customize the sort order, and the\n",
      "    reverse flag can be set to request the result in descending order.\n",
      "\n"
     ]
    }
   ],
   "source": [
    "help(sorted)"
   ]
  },
  {
   "cell_type": "code",
   "execution_count": 32,
   "metadata": {
    "collapsed": false
   },
   "outputs": [
    {
     "name": "stdout",
     "output_type": "stream",
     "text": [
      "[0, 1, 2, 4, 8, 16]\n",
      "[16, 8, 4, 2, 1, 0]\n",
      "[8, 4, 2, 16, 1, 0]\n"
     ]
    }
   ],
   "source": [
    "my_list = [4, 2, 1, 8, 16, 0]\n",
    "print(sorted(my_list))\n",
    "print(sorted(my_list, reverse=True))\n",
    "print(sorted(my_list, key=str, reverse=True))"
   ]
  },
  {
   "cell_type": "markdown",
   "metadata": {},
   "source": [
    "## Small problem with default arguments"
   ]
  },
  {
   "cell_type": "code",
   "execution_count": 40,
   "metadata": {
    "collapsed": false
   },
   "outputs": [],
   "source": [
    "def enlarge(value, lst=[]):\n",
    "    lst.append(value)\n",
    "    return lst"
   ]
  },
  {
   "cell_type": "code",
   "execution_count": 54,
   "metadata": {
    "collapsed": false
   },
   "outputs": [
    {
     "name": "stdout",
     "output_type": "stream",
     "text": [
      "[1, 2, 4]\n",
      "[3]\n",
      "[3, 3, 3, 3, 3, 3, 3, 3, 3, 3, 3, 3, 3, 3, 3, 3, 3, 3, 3, 3]\n",
      "[3, 3, 3, 3, 3, 3, 3, 3, 3, 3, 3, 3, 3, 3, 3, 3, 3, 3, 3, 3, 3]\n",
      "[3]\n"
     ]
    }
   ],
   "source": [
    "print(enlarge(4, [1, 2]))\n",
    "print(enlarge(3, []))\n",
    "print(enlarge(3))\n",
    "print(enlarge(3))\n",
    "print(enlarge(3, []))"
   ]
  },
  {
   "cell_type": "code",
   "execution_count": 60,
   "metadata": {
    "collapsed": true
   },
   "outputs": [],
   "source": [
    "def enlarge2(value, lst=list()):\n",
    "    lst.append(value)\n",
    "    return lst"
   ]
  },
  {
   "cell_type": "code",
   "execution_count": 62,
   "metadata": {
    "collapsed": false
   },
   "outputs": [
    {
     "name": "stdout",
     "output_type": "stream",
     "text": [
      "[1, 2, 4]\n",
      "[3]\n",
      "[3, 3, 3]\n",
      "[3, 3, 3, 3]\n",
      "[3]\n"
     ]
    }
   ],
   "source": [
    "print(enlarge2(4, [1, 2]))\n",
    "print(enlarge2(3, []))\n",
    "print(enlarge2(3))\n",
    "print(enlarge2(3))\n",
    "print(enlarge2(3, [])"
   ]
  },
  {
   "cell_type": "markdown",
   "metadata": {},
   "source": [
    "What's that? The function `list` which gives us the default value for the second\n",
    "argument is only evaluated **one times** when `enlarge2` is defined.\n",
    "\n",
    "Each time we call `enlarge2` with only one argument, we add another\n",
    "value into this *list inside `enlarge2`*.\n",
    "\n",
    "We could say that `enlarge2` is a closure over the \"list inside\"."
   ]
  },
  {
   "cell_type": "code",
   "execution_count": 114,
   "metadata": {
    "collapsed": false
   },
   "outputs": [
    {
     "data": {
      "text/plain": [
       "False"
      ]
     },
     "execution_count": 114,
     "metadata": {},
     "output_type": "execute_result"
    }
   ],
   "source": [
    "def enlarge_done_right(value, lst=None):\n",
    "    if lst is None:\n",
    "        lst = list()\n",
    "    lst.append(value)\n",
    "    return lst\n",
    "\n",
    "enlarge_done_right(3, list())\n",
    "bool(list())"
   ]
  },
  {
   "cell_type": "code",
   "execution_count": 66,
   "metadata": {
    "collapsed": false
   },
   "outputs": [
    {
     "name": "stdout",
     "output_type": "stream",
     "text": [
      "[3]\n",
      "[3]\n",
      "[1, 2, 3]\n"
     ]
    }
   ],
   "source": [
    "print(enlarge_done_right(3))\n",
    "print(enlarge_done_right(3))\n",
    "print(enlarge_done_right(3, [1, 2]))"
   ]
  },
  {
   "cell_type": "code",
   "execution_count": 72,
   "metadata": {
    "collapsed": false
   },
   "outputs": [
    {
     "name": "stdout",
     "output_type": "stream",
     "text": [
      "[3]\n",
      "[3]\n",
      "[1, 2, 3]\n"
     ]
    }
   ],
   "source": [
    "def enlarge_done_right(value, lst=None):\n",
    "    lst = lst or list()\n",
    "    lst.append(value)\n",
    "    return lst\n",
    "print(enlarge_done_right(3))\n",
    "print(enlarge_done_right(3))\n",
    "print(enlarge_done_right(3, [1, 2]))"
   ]
  },
  {
   "cell_type": "markdown",
   "metadata": {},
   "source": [
    "Is there any difference between the two versions of `enlarge_done_right`?\n",
    "\n",
    "Yes, the second version makes another copy of the empty list when called like this: `enlarge_done_right(4, [])` (the first version is thrown away). The first version does not. "
   ]
  },
  {
   "cell_type": "code",
   "execution_count": 89,
   "metadata": {
    "collapsed": false
   },
   "outputs": [],
   "source": [
    "def increase_key(key, d=None):\n",
    "    d = d or {}\n",
    "    if key in d:\n",
    "        d[key] += 1\n",
    "    else:\n",
    "        d[key] = 1\n",
    "    return d"
   ]
  },
  {
   "cell_type": "code",
   "execution_count": 92,
   "metadata": {
    "collapsed": false
   },
   "outputs": [
    {
     "data": {
      "text/plain": [
       "{1: 4}"
      ]
     },
     "execution_count": 92,
     "metadata": {},
     "output_type": "execute_result"
    }
   ],
   "source": [
    "increase_key(1, {1:3})"
   ]
  },
  {
   "cell_type": "markdown",
   "metadata": {},
   "source": [
    "## Variable scope"
   ]
  },
  {
   "cell_type": "code",
   "execution_count": 93,
   "metadata": {
    "collapsed": false
   },
   "outputs": [
    {
     "name": "stdout",
     "output_type": "stream",
     "text": [
      "1\n",
      "2\n",
      "1\n"
     ]
    }
   ],
   "source": [
    "x = 1\n",
    "\n",
    "def f():\n",
    "    x = 2\n",
    "    print(x)\n",
    "\n",
    "print(x)\n",
    "f()\n",
    "print(x)"
   ]
  },
  {
   "cell_type": "markdown",
   "metadata": {},
   "source": [
    "Here, the line `x = 2` in the definition of `f` creates a new (local) variable `x`.\n",
    "\n",
    "How does it work in C:\n",
    "```\n",
    "int x = 1;\n",
    "void f() {\n",
    "    x = 2;\n",
    "    printf(x);\n",
    "}\n",
    "\n",
    "printf(x);\n",
    "f();\n",
    "printf(x);\n",
    "```\n",
    "\n",
    "Output: 1, 2, 2\n",
    "\n",
    "```\n",
    "int x = 1;\n",
    "void f() {\n",
    "    int x = 2;\n",
    "    printf(x);\n",
    "}\n",
    "\n",
    "printf(x);\n",
    "f();\n",
    "printf(x);\n",
    "```\n",
    "\n",
    "Output: 1, 2, 1\n",
    "\n",
    "So Python *works like* the second block of C code."
   ]
  },
  {
   "cell_type": "code",
   "execution_count": 97,
   "metadata": {
    "collapsed": true
   },
   "outputs": [],
   "source": [
    "x = 1\n",
    "def set_x():\n",
    "    x = 2"
   ]
  },
  {
   "cell_type": "code",
   "execution_count": 98,
   "metadata": {
    "collapsed": false
   },
   "outputs": [
    {
     "name": "stdout",
     "output_type": "stream",
     "text": [
      "1\n",
      "1\n"
     ]
    }
   ],
   "source": [
    "print(x)\n",
    "set_x()\n",
    "print(x)"
   ]
  },
  {
   "cell_type": "markdown",
   "metadata": {},
   "source": [
    "Again, we create a (new) local variable called `x` inside the function `set_x`. The value of the global variable `x` defined outside of the body of `set_x` is not changed."
   ]
  },
  {
   "cell_type": "code",
   "execution_count": 118,
   "metadata": {
    "collapsed": true
   },
   "outputs": [],
   "source": [
    "x = 1\n",
    "def increase_x():\n",
    "    x = x + 1"
   ]
  },
  {
   "cell_type": "markdown",
   "metadata": {},
   "source": [
    "We we try to evaluate the function `increase_x` we will get an error:"
   ]
  },
  {
   "cell_type": "code",
   "execution_count": 120,
   "metadata": {
    "collapsed": false
   },
   "outputs": [
    {
     "name": "stdout",
     "output_type": "stream",
     "text": [
      "1\n"
     ]
    },
    {
     "ename": "UnboundLocalError",
     "evalue": "local variable 'x' referenced before assignment",
     "output_type": "error",
     "traceback": [
      "\u001b[0;31m---------------------------------------------------------------------------\u001b[0m",
      "\u001b[0;31mUnboundLocalError\u001b[0m                         Traceback (most recent call last)",
      "\u001b[0;32m<ipython-input-120-b3de81b1d2c5>\u001b[0m in \u001b[0;36m<module>\u001b[0;34m()\u001b[0m\n\u001b[1;32m      1\u001b[0m \u001b[0mprint\u001b[0m\u001b[0;34m(\u001b[0m\u001b[0mx\u001b[0m\u001b[0;34m)\u001b[0m\u001b[0;34m\u001b[0m\u001b[0m\n\u001b[0;32m----> 2\u001b[0;31m \u001b[0mincrease_x\u001b[0m\u001b[0;34m(\u001b[0m\u001b[0;34m)\u001b[0m\u001b[0;34m\u001b[0m\u001b[0m\n\u001b[0m\u001b[1;32m      3\u001b[0m \u001b[0mprint\u001b[0m\u001b[0;34m(\u001b[0m\u001b[0mx\u001b[0m\u001b[0;34m)\u001b[0m\u001b[0;34m\u001b[0m\u001b[0m\n",
      "\u001b[0;32m<ipython-input-118-00faa65e5c51>\u001b[0m in \u001b[0;36mincrease_x\u001b[0;34m()\u001b[0m\n\u001b[1;32m      1\u001b[0m \u001b[0mx\u001b[0m \u001b[0;34m=\u001b[0m \u001b[0;36m1\u001b[0m\u001b[0;34m\u001b[0m\u001b[0m\n\u001b[1;32m      2\u001b[0m \u001b[0;32mdef\u001b[0m \u001b[0mincrease_x\u001b[0m\u001b[0;34m(\u001b[0m\u001b[0;34m)\u001b[0m\u001b[0;34m:\u001b[0m\u001b[0;34m\u001b[0m\u001b[0m\n\u001b[0;32m----> 3\u001b[0;31m     \u001b[0mx\u001b[0m \u001b[0;34m=\u001b[0m \u001b[0mx\u001b[0m \u001b[0;34m+\u001b[0m \u001b[0;36m1\u001b[0m\u001b[0;34m\u001b[0m\u001b[0m\n\u001b[0m",
      "\u001b[0;31mUnboundLocalError\u001b[0m: local variable 'x' referenced before assignment"
     ]
    }
   ],
   "source": [
    "print(x)\n",
    "increase_x()\n",
    "print(x)"
   ]
  },
  {
   "cell_type": "markdown",
   "metadata": {},
   "source": [
    "Why does this error happen? Inside the body of `increase_x` we define a new local variable `x`, whose value we try to use during the definition of `x`. Python doesn't let us do this. "
   ]
  },
  {
   "cell_type": "code",
   "execution_count": 103,
   "metadata": {
    "collapsed": true
   },
   "outputs": [],
   "source": [
    "x = 1\n",
    "def increase_x_done_right():\n",
    "    global x\n",
    "    x = x + 1"
   ]
  },
  {
   "cell_type": "markdown",
   "metadata": {},
   "source": [
    "using the `global` keyword we tell Python that we want to modify the global variable `x` in this function and don't want to create a new local variable:"
   ]
  },
  {
   "cell_type": "code",
   "execution_count": 104,
   "metadata": {
    "collapsed": false
   },
   "outputs": [
    {
     "name": "stdout",
     "output_type": "stream",
     "text": [
      "1\n",
      "2\n"
     ]
    }
   ],
   "source": [
    "print(x)\n",
    "increase_x_done_right()\n",
    "print(x)"
   ]
  },
  {
   "cell_type": "code",
   "execution_count": 108,
   "metadata": {
    "collapsed": false
   },
   "outputs": [
    {
     "data": {
      "text/plain": [
       "2"
      ]
     },
     "execution_count": 108,
     "metadata": {},
     "output_type": "execute_result"
    }
   ],
   "source": [
    "x = 1\n",
    "def incr_x():\n",
    "    return x + 1\n",
    "incr_x()"
   ]
  },
  {
   "cell_type": "markdown",
   "metadata": {},
   "source": [
    "# Nested functions, nonlocal variables"
   ]
  },
  {
   "cell_type": "code",
   "execution_count": 111,
   "metadata": {
    "collapsed": false
   },
   "outputs": [
    {
     "name": "stdout",
     "output_type": "stream",
     "text": [
      "2\n",
      "3\n",
      "2\n",
      "1\n"
     ]
    }
   ],
   "source": [
    "a = 1\n",
    "def f():\n",
    "    a = 2\n",
    "    print(a)\n",
    "    def g():\n",
    "        a = 3\n",
    "        print(a)\n",
    "    g()\n",
    "    print(a)\n",
    "f()\n",
    "print(a)"
   ]
  },
  {
   "cell_type": "markdown",
   "metadata": {},
   "source": [
    "The above code has 3 variables called `a`. A global one (= 1), one local to the function `f` (= 2), and one local to the function `g`. Each time we write `a = ...` we define a new variable.\n",
    "\n",
    "Let's add a `global` declaration:"
   ]
  },
  {
   "cell_type": "code",
   "execution_count": 121,
   "metadata": {
    "collapsed": false
   },
   "outputs": [
    {
     "name": "stdout",
     "output_type": "stream",
     "text": [
      "2\n",
      "11\n",
      "2\n",
      "11\n"
     ]
    }
   ],
   "source": [
    "a = 1\n",
    "def f():\n",
    "    a = 2\n",
    "    print(a)\n",
    "    def g():\n",
    "        global a\n",
    "        a += 10\n",
    "        print(a)\n",
    "    g()\n",
    "    print(a)\n",
    "f()\n",
    "print(a)"
   ]
  },
  {
   "cell_type": "markdown",
   "metadata": {},
   "source": [
    "After adding `global` only two variable are left: the global `a`, which is modified inside `g` and a local variable `a` inside the function `f`. Observe the that `global` really chooses the \"most global\" variable.\n",
    "\n",
    "Bisides `global` there's also a `nonlocal` declaration which allows us to modify the local variable `a` from `f` inside `g`:"
   ]
  },
  {
   "cell_type": "code",
   "execution_count": 113,
   "metadata": {
    "collapsed": false
   },
   "outputs": [
    {
     "name": "stdout",
     "output_type": "stream",
     "text": [
      "2\n",
      "12\n",
      "12\n",
      "1\n"
     ]
    }
   ],
   "source": [
    "a = 1\n",
    "def f():\n",
    "    a = 2\n",
    "    print(a)\n",
    "    def g():\n",
    "        nonlocal a\n",
    "        a += 10\n",
    "        print(a)\n",
    "    g()\n",
    "    print(a)\n",
    "f()\n",
    "print(a)"
   ]
  },
  {
   "cell_type": "markdown",
   "metadata": {},
   "source": [
    "Observe that we modified the variable `a` local to `f` and not the global variable. \n",
    "\n",
    "Now what happens when we nest four functions:"
   ]
  },
  {
   "cell_type": "code",
   "execution_count": 123,
   "metadata": {
    "collapsed": false
   },
   "outputs": [
    {
     "name": "stdout",
     "output_type": "stream",
     "text": [
      "2\n",
      "3\n",
      "4\n",
      "3\n",
      "2\n",
      "1\n"
     ]
    }
   ],
   "source": [
    "a = 1\n",
    "def f():\n",
    "    a = 2\n",
    "    print(a)\n",
    "    def g():\n",
    "        a = 3\n",
    "        print(a)\n",
    "        def h():\n",
    "            a = 4\n",
    "            print(a)\n",
    "        h()\n",
    "        print(a)\n",
    "    g()\n",
    "    print(a)\n",
    "f()\n",
    "print(a)"
   ]
  },
  {
   "cell_type": "markdown",
   "metadata": {},
   "source": [
    "We have four variables called `a` now. Let's make the innermost (the one inside `h`) `nonlocal` and observe what happens:"
   ]
  },
  {
   "cell_type": "code",
   "execution_count": 124,
   "metadata": {
    "collapsed": false
   },
   "outputs": [
    {
     "name": "stdout",
     "output_type": "stream",
     "text": [
      "2\n",
      "3\n",
      "13\n",
      "13\n",
      "2\n",
      "1\n"
     ]
    }
   ],
   "source": [
    "a = 1\n",
    "def f():\n",
    "    a = 2\n",
    "    print(a)\n",
    "    def g():\n",
    "        a = 3\n",
    "        print(a)\n",
    "        def h():\n",
    "            nonlocal a\n",
    "            a += 10\n",
    "            print(a)\n",
    "        h()\n",
    "        print(a)\n",
    "    g()\n",
    "    print(a)\n",
    "f()\n",
    "print(a)"
   ]
  },
  {
   "cell_type": "markdown",
   "metadata": {},
   "source": [
    "Seems we are modifying the local variable in `g` now from inside `h`. We could change `nonlocal` into `global`:"
   ]
  },
  {
   "cell_type": "code",
   "execution_count": 125,
   "metadata": {
    "collapsed": false
   },
   "outputs": [
    {
     "name": "stdout",
     "output_type": "stream",
     "text": [
      "2\n",
      "3\n",
      "11\n",
      "3\n",
      "2\n",
      "11\n"
     ]
    }
   ],
   "source": [
    "a = 1\n",
    "def f():\n",
    "    a = 2\n",
    "    print(a)\n",
    "    def g():\n",
    "        a = 3\n",
    "        print(a)\n",
    "        def h():\n",
    "            global a\n",
    "            a += 10\n",
    "            print(a)\n",
    "        h()\n",
    "        print(a)\n",
    "    g()\n",
    "    print(a)\n",
    "f()\n",
    "print(a)"
   ]
  },
  {
   "cell_type": "markdown",
   "metadata": {},
   "source": [
    "Now we are modifying the global variable.\n",
    "\n",
    "In this kind of situation we have no way to modify the local variable inside `f`. It is *hidden* from us by the local variable from `g`.\n",
    "\n",
    "**Hint** I would like to point out that we normally do not write code in which we use duplicate \n",
    "variable names inside nested functions 😊."
   ]
  },
  {
   "cell_type": "code",
   "execution_count": null,
   "metadata": {
    "collapsed": true
   },
   "outputs": [],
   "source": []
  }
 ],
 "metadata": {
  "kernelspec": {
   "display_name": "Python 3",
   "language": "python",
   "name": "python3"
  },
  "language_info": {
   "codemirror_mode": {
    "name": "ipython",
    "version": 3
   },
   "file_extension": ".py",
   "mimetype": "text/x-python",
   "name": "python",
   "nbconvert_exporter": "python",
   "pygments_lexer": "ipython3",
   "version": "3.6.0"
  }
 },
 "nbformat": 4,
 "nbformat_minor": 2
}
