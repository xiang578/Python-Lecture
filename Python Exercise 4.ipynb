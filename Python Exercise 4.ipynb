{
 "cells": [
  {
   "cell_type": "markdown",
   "metadata": {},
   "source": [
    "# Python Exercise 4\n",
    "\n",
    "## Problem 4-1: using dictionaries for sparse vectors\n",
    "\n",
    "Many vectors we encounter in Machine Learning applications are **sparse**, that is: most of their entries are zero. Instead of using lists to represent them (and storing any zeros), we might choose the store them using dictionaries and only store non-zero entries.\n",
    "\n",
    "For example, the actors\n",
    "\n",
    "$$\n",
    "(0, 0, 0, 0, 0, 0, 0, 0, 1),\\\\\n",
    "(0, 1, 0, 0, 0, 0, 0, 1, 0)\n",
    "$$\n",
    "could be stored using the lists: `[0, 0, 0, 0, 0, 0, 0, 0, 1]` and `[0, 1, 0, 0, 0, 0, 0, 1, 0]` or using the following dictionaries: `{8: 1}` and `{1: 1, 7: 1}`.\n",
    "\n",
    "Write code which translates the list `x` given below in an equivalent dictionary representation `xd` and write code which adds this vector to the dictionary representation `yd` given below, that is  What should happen with the value at position 3?\n",
    "\n",
    "**Remark** write code which translates `x` into a dictionary, don't just write down the dictionary."
   ]
  },
  {
   "cell_type": "code",
   "execution_count": 1,
   "metadata": {
    "collapsed": false
   },
   "outputs": [
    {
     "data": {
      "text/plain": [
       "{2: 1, 3: -1, 11: 1}"
      ]
     },
     "execution_count": 1,
     "metadata": {},
     "output_type": "execute_result"
    }
   ],
   "source": [
    "x = [0, 0, 1, -1, 0, 0, 0, 0, 0, 0, 0, 1]\n",
    "xd = {} #calculate me！\n",
    "n=len(x)\n",
    "for i in range(0,n):\n",
    "    if(x[i]!=0):\n",
    "        xd[i]=x[i]"
   ]
  },
  {
   "cell_type": "code",
   "execution_count": 3,
   "metadata": {
    "collapsed": false
   },
   "outputs": [
    {
     "data": {
      "text/plain": [
       "{1: 4, 2: 1, 3: -1, 8: 7, 11: 1}"
      ]
     },
     "execution_count": 3,
     "metadata": {},
     "output_type": "execute_result"
    }
   ],
   "source": [
    "yd = {1: 4, 3: 1, 8: 7}\n",
    "yd.update(xd)\n",
    "yd"
   ]
  },
  {
   "cell_type": "markdown",
   "metadata": {},
   "source": [
    "## Problem 4-2: Working with files\n",
    "\n",
    "We can open files in Python using the `open` function. `open` takes at least two parameters:\n",
    "\n",
    "* the filename (a string)\n",
    "* the **mode** in which the file should be opened. Can be `'w'` for writing, `'r'` for reading, `'wa'` for writing and appending\n",
    "\n",
    "Optionally, the `open` function takes an `encoding` parameter which specifies the encoding of the file (more on this next week). \n",
    "\n",
    "`open` returns a `file` object (try `help(file)`) from which we could read all lines using a `for` loop. Example:"
   ]
  },
  {
   "cell_type": "code",
   "execution_count": 4,
   "metadata": {
    "collapsed": false
   },
   "outputs": [
    {
     "name": "stdout",
     "output_type": "stream",
     "text": [
      "The Zen of Python, by Tim Peters\n",
      "\n",
      "Beautiful is better than ugly.\n",
      "Explicit is better than implicit.\n",
      "Simple is better than complex.\n",
      "Complex is better than complicated.\n",
      "Flat is better than nested.\n",
      "Sparse is better than dense.\n",
      "Readability counts.\n",
      "Special cases aren't special enough to break the rules.\n",
      "Although practicality beats purity.\n",
      "Errors should never pass silently.\n",
      "Unless explicitly silenced.\n",
      "In the face of ambiguity, refuse the temptation to guess.\n",
      "There should be one-- and preferably only one --obvious way to do it.\n",
      "Although that way may not be obvious at first unless you're Dutch.\n",
      "Now is better than never.\n",
      "Although never is often better than *right* now.\n",
      "If the implementation is hard to explain, it's a bad idea.\n",
      "If the implementation is easy to explain, it may be a good idea.\n",
      "Namespaces are one honking great idea -- let's do more of those!\n"
     ]
    }
   ],
   "source": [
    "f = open('zenofpython.txt', 'r')\n",
    "\n",
    "for line in f:\n",
    "    print(line.strip())"
   ]
  },
  {
   "cell_type": "markdown",
   "metadata": {},
   "source": [
    "The `strip` function is necessary to take away the trailing newline `'\\n'`.\n",
    "\n",
    "Write a program which asks the user to input a filename. Then open the file and print the number of lines, words (separated by a blank `' '`) and characters in the file. You could test your code with the file `zenofpython.txt`.\n",
    "\n"
   ]
  },
  {
   "cell_type": "code",
   "execution_count": 16,
   "metadata": {
    "collapsed": false
   },
   "outputs": [
    {
     "name": "stdout",
     "output_type": "stream",
     "text": [
      "input a filenamezenofpython.txt\n",
      "line:  21\n",
      "word:  145\n",
      "characters: 857\n"
     ]
    }
   ],
   "source": [
    "name=input(\"input a filename\")\n",
    "f=open(name,'r')\n",
    "linecnt=0\n",
    "wordcnt=0\n",
    "charcnt=0\n",
    "for line in f:\n",
    "    word=line.split(' ')\n",
    "    linecnt+=1\n",
    "    charcnt+=len(line)\n",
    "    wordcnt+=len(word)\n",
    "print(\"line: \",linecnt)\n",
    "print(\"word: \",wordcnt)\n",
    "print(\"characters:\",charcnt)"
   ]
  },
  {
   "cell_type": "markdown",
   "metadata": {},
   "source": [
    "## Problem 4-3: counting unique words\n",
    "\n",
    "Now write a program which opens a file and counts the number of unique words in the file. For example, if the file just consists out of the string `\"The fox jumps over the dog. The dog lies below the fox\"`, the program should tell us 7 (since the string only contains the words `the`, `fox`, `jumps`, `over`, `dog`, `lies`, `below`).\n",
    "\n",
    "**Hint:** your program should remove punctuation such as `,` and `.` for which the `replace` method of the string class might be helpful. Try to use a datastructure which makes your job easy."
   ]
  },
  {
   "cell_type": "code",
   "execution_count": 1,
   "metadata": {
    "collapsed": false
   },
   "outputs": [
    {
     "name": "stdout",
     "output_type": "stream",
     "text": [
      "input a filenametest.txt\n"
     ]
    },
    {
     "data": {
      "text/plain": [
       "{'below': 1, 'dog': 2, 'fox': 2, 'jumps': 1, 'lies': 1, 'over': 1, 'the': 4}"
      ]
     },
     "execution_count": 1,
     "metadata": {},
     "output_type": "execute_result"
    }
   ],
   "source": [
    "name=input(\"input a filename\")\n",
    "f=open(name,'r')\n",
    "#a=\"The fox jumps over the dog, The dog lies below the fox.\"\n",
    "for a in f:\n",
    "    a=a.lower()\n",
    "    a=a.replace(',',' ')\n",
    "    a=a.replace('.',' ')\n",
    "    cnt=0;\n",
    "    d={}\n",
    "    tmp=a\n",
    "    n=len(a)\n",
    "    s=\"\"\n",
    "    for i in range(0,n):\n",
    "        if a[i]==' ':\n",
    "            if s==\"\":\n",
    "                continue\n",
    "            elif s in d:\n",
    "                d[s]=d[s]+1\n",
    "                s=\"\"\n",
    "            else:\n",
    "                d[s]=1\n",
    "                s=\"\"\n",
    "        else:\n",
    "            s+=a[i];\n",
    "    if s!=\"\":\n",
    "        if s in d:\n",
    "            d[s]=d[s]+1\n",
    "            s=\"\"\n",
    "        else:\n",
    "            d[s]=1\n",
    "            s=\"\"\n",
    "d"
   ]
  },
  {
   "cell_type": "markdown",
   "metadata": {},
   "source": [
    "## Problem 4-4: calculating final grades\n",
    "\n",
    "The file `grades.txt` contains the grades of 17 students. \n",
    "For each student 10 grades are recorded:\n",
    "\n",
    "* the first 6 are the grades for quizzes\n",
    "* the next 3 are the grades for homeworks\n",
    "* the last one is the grade for the final exam.\n",
    "\n",
    "You should calculate the final grade for each student. The final grade is calculated as follows:\n",
    "\n",
    "1. We do not consider the lowest score of the 6 quizzes\n",
    "1. each of the other 5 quizzes counts for 3% of the final grade\n",
    "1. each homework accounts for 15% of the final grade\n",
    "1. the final exam accounts for 40% of the final grade.\n",
    "\n",
    " \n",
    "\n",
    "\n",
    "**Example**\n",
    "\n",
    "The first line of the file is:\n",
    "\n",
    "```\n",
    "Fred,48,49,35,55,66,65,48,1,60,63\n",
    "```\n",
    "\n",
    "Thus Fred's quiz scores are 48, 49, 35, 55, 66, 65, his homeworks are 48, 1, 60 and he scored 63 points in the final exam.\n",
    "\n",
    "We do not consider the lowest score of 35 for the quizzes. The other quizzes give him 8.49 points, he got 15.9 points from the three homeworks, and 25.2 points from the final exam. In total he got 49.59 points\n",
    "\n",
    "**Task:**\n",
    "Print the final grade for each students in alphabetical order and print whether (s)he passed ($\\ge 40$ points) or failed (Fred passed 😊).\n",
    "\n",
    "\n",
    "\n",
    "**Hint:** you can use the `line.split(',')` to split the string `line` at `,`."
   ]
  },
  {
   "cell_type": "code",
   "execution_count": 23,
   "metadata": {
    "collapsed": false
   },
   "outputs": [
    {
     "name": "stdout",
     "output_type": "stream",
     "text": [
      "quizzes:  8.49\n",
      "homeworks:  16.349999999999998\n",
      "final exam:  25.200000000000003\n",
      "sum: 50.04\n",
      "Fred passed\n"
     ]
    }
   ],
   "source": [
    "a=\"Fred,48,49,35,55,66,65,48,1,60,63\"\n",
    "alist=a.split(',')\n",
    "x=[int(i) for i in alist[1:]]\n",
    "quizz=x[0:6]\n",
    "homework=x[6:9]\n",
    "exam=x[9:]\n",
    "a1=(sum(quizz)-min(quizz))*0.03\n",
    "a2=sum(homework)*0.15\n",
    "a3=sum(exam)*0.4\n",
    "s=a1+a2+a3\n",
    "print(\"quizzes: \",a1)\n",
    "print(\"homeworks: \",a2)\n",
    "print(\"final exam: \",a3)\n",
    "print(\"sum:\",s)\n",
    "if s>=40:\n",
    "    print(alist[0],\"passed\")\n",
    "else:\n",
    "    print(alist[0],\"failed\")"
   ]
  },
  {
   "cell_type": "markdown",
   "metadata": {},
   "source": [
    "## Problem 4-5: calculate average scores\n",
    "Using the same `grades.csv` file as above, calculate the average grade for each of the quizzes, for each homework, and \n",
    "for the exam.\n",
    "\n"
   ]
  },
  {
   "cell_type": "code",
   "execution_count": 38,
   "metadata": {
    "collapsed": false
   },
   "outputs": [
    {
     "data": {
      "text/plain": [
       "[51.64705882352941,\n",
       " 43.8235294117647,\n",
       " 35.705882352941174,\n",
       " 40.23529411764706,\n",
       " 61.294117647058826,\n",
       " 41.705882352941174,\n",
       " 63.23529411764706,\n",
       " 43.76470588235294,\n",
       " 58.35294117647059,\n",
       " 57.8235294117647]"
      ]
     },
     "execution_count": 38,
     "metadata": {},
     "output_type": "execute_result"
    }
   ],
   "source": [
    "cnt=0\n",
    "avg=[int(0) for i in range(0,10)]\n",
    "f=open('grades.csv','r')\n",
    "for a in f:\n",
    "    cnt=cnt+1\n",
    "    alist=a.split(',')\n",
    "    x=[int(i) for i in alist[1:]]\n",
    "    for i in range(10):\n",
    "        avg[i]=avg[i]+x[i]\n",
    "avg=[i/cnt for i in avg]\n",
    "avg"
   ]
  },
  {
   "cell_type": "markdown",
   "metadata": {},
   "source": [
    "## Addendum\n",
    "\n",
    "The following code was used to generate the file `grades.csv`"
   ]
  },
  {
   "cell_type": "code",
   "execution_count": null,
   "metadata": {
    "collapsed": false
   },
   "outputs": [],
   "source": [
    "names = ['Fred', 'Peter', 'Bill', \n",
    "        'Sammy', 'Tom', 'Sarah', 'Anthony', 'Barny', 'Philip', 'Zach',\n",
    "        'Betty', 'Chris', 'Sarah', 'Tim', 'Dick', 'Donald', 'Angela']\n",
    "\n",
    "with open('grades.csv', 'w', encoding='utf-8') as file:\n",
    "    for name in names:\n",
    "        s = name + \",\"\n",
    "        grades = [str(random.randint(1, 100)) for i in range(10)]\n",
    "        s += ','.join(grades) + \"\\n\"\n",
    "        file.write(s)"
   ]
  },
  {
   "cell_type": "markdown",
   "metadata": {},
   "source": [
    "The following code generates the `zenofpython.txt` file (and please don't ask me how it works $\\dots$)"
   ]
  },
  {
   "cell_type": "code",
   "execution_count": 3,
   "metadata": {
    "collapsed": false
   },
   "outputs": [],
   "source": [
    "import sys\n",
    "if 'this' in sys.modules:\n",
    "    del sys.modules[\"this\"]\n",
    "    del this\n",
    "from contextlib import redirect_stdout\n",
    "with open('zenofpython.txt', 'w') as f:\n",
    "    with redirect_stdout(f):\n",
    "        import this"
   ]
  }
 ],
 "metadata": {
  "kernelspec": {
   "display_name": "Python 3",
   "language": "python",
   "name": "python3"
  },
  "language_info": {
   "codemirror_mode": {
    "name": "ipython",
    "version": 3
   },
   "file_extension": ".py",
   "mimetype": "text/x-python",
   "name": "python",
   "nbconvert_exporter": "python",
   "pygments_lexer": "ipython3",
   "version": "3.6.0"
  }
 },
 "nbformat": 4,
 "nbformat_minor": 2
}
