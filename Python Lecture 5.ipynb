{
 "cells": [
  {
   "cell_type": "markdown",
   "metadata": {},
   "source": [
    "# Python Lecture 5\n",
    "\n",
    "\n",
    "## First some remarks about the quiz"
   ]
  },
  {
   "cell_type": "code",
   "execution_count": null,
   "metadata": {
    "collapsed": true
   },
   "outputs": [],
   "source": [
    "true True # True is written in uppercase\n",
    "False #as well"
   ]
  },
  {
   "cell_type": "code",
   "execution_count": 16,
   "metadata": {
    "collapsed": false
   },
   "outputs": [
    {
     "data": {
      "text/plain": [
       "'hello'"
      ]
     },
     "execution_count": 16,
     "metadata": {},
     "output_type": "execute_result"
    }
   ],
   "source": [
    "0 or \"hello\""
   ]
  },
  {
   "cell_type": "code",
   "execution_count": null,
   "metadata": {
    "collapsed": true
   },
   "outputs": [],
   "source": []
  },
  {
   "cell_type": "code",
   "execution_count": 9,
   "metadata": {
    "collapsed": false
   },
   "outputs": [],
   "source": [
    "x = 0\n",
    "y = 4\n",
    "if x or y:\n",
    "    print('one of x or y is not zero') "
   ]
  },
  {
   "cell_type": "code",
   "execution_count": 11,
   "metadata": {
    "collapsed": false
   },
   "outputs": [
    {
     "data": {
      "text/plain": [
       "True"
      ]
     },
     "execution_count": 11,
     "metadata": {},
     "output_type": "execute_result"
    }
   ],
   "source": [
    "not 0"
   ]
  },
  {
   "cell_type": "markdown",
   "metadata": {
    "collapsed": true
   },
   "source": [
    "## Solution to Exercise 4-1\n",
    "\n",
    "Convert a list representation of a vector into a dictionary representation:"
   ]
  },
  {
   "cell_type": "code",
   "execution_count": 18,
   "metadata": {
    "collapsed": true
   },
   "outputs": [],
   "source": [
    "x = [0, 0, 1, -1, 0, 0, 0, 0, 0, 0, 0, 1]"
   ]
  },
  {
   "cell_type": "code",
   "execution_count": 22,
   "metadata": {
    "collapsed": false
   },
   "outputs": [
    {
     "data": {
      "text/plain": [
       "True"
      ]
     },
     "execution_count": 22,
     "metadata": {},
     "output_type": "execute_result"
    }
   ],
   "source": [
    "#we want:\n",
    "xd_true = {2: 1, 3: -1, 11:1}\n",
    "xd = {}\n",
    "\n",
    "#let's first try an ugly way:\n",
    "for index in range(len(x)):\n",
    "    value = x[index]\n",
    "    if value != 0:\n",
    "        xd[index] = value \n",
    "xd == xd_true "
   ]
  },
  {
   "cell_type": "markdown",
   "metadata": {},
   "source": [
    "That's a solution, but an **ugly** one. Let's make it a little better:"
   ]
  },
  {
   "cell_type": "code",
   "execution_count": 25,
   "metadata": {
    "collapsed": false
   },
   "outputs": [
    {
     "data": {
      "text/plain": [
       "{2: 1, 3: -1, 11: 1}"
      ]
     },
     "execution_count": 25,
     "metadata": {},
     "output_type": "execute_result"
    }
   ],
   "source": [
    "xd = {}\n",
    "for index, value in enumerate(x):\n",
    "    if value != 0.0:\n",
    "        xd[index] = value\n",
    "xd"
   ]
  },
  {
   "cell_type": "markdown",
   "metadata": {},
   "source": [
    "That's more 'Python-like', but we can write it even nicer:"
   ]
  },
  {
   "cell_type": "code",
   "execution_count": 26,
   "metadata": {
    "collapsed": false
   },
   "outputs": [
    {
     "data": {
      "text/plain": [
       "[(2, 1), (3, -1), (11, 1)]"
      ]
     },
     "execution_count": 26,
     "metadata": {},
     "output_type": "execute_result"
    }
   ],
   "source": [
    "[(index, value) for index, value in enumerate(x) if value != 0]"
   ]
  },
  {
   "cell_type": "markdown",
   "metadata": {},
   "source": [
    "given us a list of pairs, we can use almost the same trick to make a dictionary:"
   ]
  },
  {
   "cell_type": "code",
   "execution_count": 27,
   "metadata": {
    "collapsed": false
   },
   "outputs": [
    {
     "data": {
      "text/plain": [
       "{2: 1, 3: -1, 11: 1}"
      ]
     },
     "execution_count": 27,
     "metadata": {},
     "output_type": "execute_result"
    }
   ],
   "source": [
    "{index: value for index, value in enumerate(x) if value != 0}"
   ]
  },
  {
   "cell_type": "markdown",
   "metadata": {},
   "source": [
    "Now let us add two dictionary representations together:"
   ]
  },
  {
   "cell_type": "code",
   "execution_count": 29,
   "metadata": {
    "collapsed": false
   },
   "outputs": [
    {
     "data": {
      "text/plain": [
       "{1: 3, 2: 1, 3: 0, 10: 1, 11: 1}"
      ]
     },
     "execution_count": 29,
     "metadata": {},
     "output_type": "execute_result"
    }
   ],
   "source": [
    "yd = {1: 3, 3:1, 10:1}\n",
    "#want z = x + y\n",
    "zd_true = {1: 3, 2:1, 10:1, 11:1}\n",
    "\n",
    "zd = xd\n",
    "for k, v in yd.items():\n",
    "    if k in xd:\n",
    "        s = xd[k] + v\n",
    "        zd[k] = s\n",
    "    else:\n",
    "        zd[k] = v\n",
    "zd"
   ]
  },
  {
   "cell_type": "code",
   "execution_count": 30,
   "metadata": {
    "collapsed": false
   },
   "outputs": [
    {
     "data": {
      "text/plain": [
       "{1: 3, 2: 1, 3: 0, 10: 1, 11: 1}"
      ]
     },
     "execution_count": 30,
     "metadata": {},
     "output_type": "execute_result"
    }
   ],
   "source": [
    "xd"
   ]
  },
  {
   "cell_type": "markdown",
   "metadata": {},
   "source": [
    "What happened? When we wrote `zd = xd` we just said that `zd` is now a new\n",
    "name of (technically a **reference** to) `xd`. Each time we change `zd`, we also change\n",
    "`xd`."
   ]
  },
  {
   "cell_type": "code",
   "execution_count": 35,
   "metadata": {
    "collapsed": false
   },
   "outputs": [
    {
     "data": {
      "text/plain": [
       "{1: 3, 2: 1, 10: 1, 11: 1}"
      ]
     },
     "execution_count": 35,
     "metadata": {},
     "output_type": "execute_result"
    }
   ],
   "source": [
    "xd = {2: 1, 3: -1, 11:1}\n",
    "zd = xd.copy()\n",
    "for k, v in yd.items():\n",
    "    if k in xd:\n",
    "        s = xd[k] + v\n",
    "        if s != 0:\n",
    "            zd[k] = s\n",
    "        else:\n",
    "            del zd[k]\n",
    "    else:\n",
    "        zd[k] = v\n",
    "zd\n"
   ]
  },
  {
   "cell_type": "code",
   "execution_count": 32,
   "metadata": {
    "collapsed": false
   },
   "outputs": [
    {
     "data": {
      "text/plain": [
       "{2: 1, 3: -1, 11: 1}"
      ]
     },
     "execution_count": 32,
     "metadata": {},
     "output_type": "execute_result"
    }
   ],
   "source": [
    "xd"
   ]
  },
  {
   "cell_type": "markdown",
   "metadata": {},
   "source": [
    "So it's correct, but horribly ugly!!! Find a better way:"
   ]
  },
  {
   "cell_type": "code",
   "execution_count": 39,
   "metadata": {
    "collapsed": false
   },
   "outputs": [
    {
     "data": {
      "text/plain": [
       "{1: 3, 2: 1, 10: 1, 11: 1}"
      ]
     },
     "execution_count": 39,
     "metadata": {},
     "output_type": "execute_result"
    }
   ],
   "source": [
    "x_keys = xd.keys()\n",
    "y_keys = yd.keys()\n",
    "zd = {}\n",
    "\n",
    "for key in x_keys | y_keys:\n",
    "    if key in xd:\n",
    "        a = xd[key]\n",
    "    else:\n",
    "        a = 0\n",
    "    if key in yd:\n",
    "        b = yd[key]\n",
    "    else:\n",
    "        b = 0\n",
    "    if a + b != 0:\n",
    "        zd[key] = a + b\n",
    "zd"
   ]
  },
  {
   "cell_type": "markdown",
   "metadata": {},
   "source": [
    "Better, but still not beautiful! Let's make it better"
   ]
  },
  {
   "cell_type": "code",
   "execution_count": 41,
   "metadata": {
    "collapsed": false
   },
   "outputs": [
    {
     "name": "stdout",
     "output_type": "stream",
     "text": [
      "Help on method_descriptor:\n",
      "\n",
      "get(...)\n",
      "    D.get(k[,d]) -> D[k] if k in D, else d.  d defaults to None.\n",
      "\n"
     ]
    }
   ],
   "source": [
    "help(dict.get)"
   ]
  },
  {
   "cell_type": "code",
   "execution_count": 42,
   "metadata": {
    "collapsed": false
   },
   "outputs": [
    {
     "data": {
      "text/plain": [
       "{1: 3, 2: 1, 10: 1, 11: 1}"
      ]
     },
     "execution_count": 42,
     "metadata": {},
     "output_type": "execute_result"
    }
   ],
   "source": [
    "zd = {}\n",
    "for k in xd.keys() | yd.keys():\n",
    "    a = xd.get(k, 0)\n",
    "    b = yd.get(k, 0)\n",
    "    s = a + b # xd.get(k, 0) + xy.get(k, 0)\n",
    "    if s != 0:\n",
    "        zd[k] = s\n",
    "zd"
   ]
  },
  {
   "cell_type": "markdown",
   "metadata": {},
   "source": [
    "Now in one line, just to show off how clever we are:"
   ]
  },
  {
   "cell_type": "code",
   "execution_count": 43,
   "metadata": {
    "collapsed": false
   },
   "outputs": [
    {
     "data": {
      "text/plain": [
       "{1: 3, 2: 1, 10: 1, 11: 1}"
      ]
     },
     "execution_count": 43,
     "metadata": {},
     "output_type": "execute_result"
    }
   ],
   "source": [
    "{k: xd.get(k, 0) + yd.get(k, 0) for k in  xd.keys() | yd.keys()\n",
    "if xd.get(k, 0) + yd.get(k, 0) != 0}"
   ]
  },
  {
   "cell_type": "markdown",
   "metadata": {},
   "source": [
    "## Functions in Python"
   ]
  },
  {
   "cell_type": "code",
   "execution_count": 44,
   "metadata": {
    "collapsed": true
   },
   "outputs": [],
   "source": [
    "def square(x):\n",
    "    return x ** 2"
   ]
  },
  {
   "cell_type": "code",
   "execution_count": 45,
   "metadata": {
    "collapsed": false
   },
   "outputs": [
    {
     "data": {
      "text/plain": [
       "16"
      ]
     },
     "execution_count": 45,
     "metadata": {},
     "output_type": "execute_result"
    }
   ],
   "source": [
    "square(4)"
   ]
  },
  {
   "cell_type": "code",
   "execution_count": 47,
   "metadata": {
    "collapsed": true
   },
   "outputs": [],
   "source": [
    "def print_message():\n",
    "    print(\"Hello world\")"
   ]
  },
  {
   "cell_type": "code",
   "execution_count": 48,
   "metadata": {
    "collapsed": false
   },
   "outputs": [
    {
     "name": "stdout",
     "output_type": "stream",
     "text": [
      "Hello world\n"
     ]
    }
   ],
   "source": [
    "print_message()"
   ]
  },
  {
   "cell_type": "markdown",
   "metadata": {},
   "source": [
    "Make a function to make a dictionary representation of a vector:"
   ]
  },
  {
   "cell_type": "code",
   "execution_count": 49,
   "metadata": {
    "collapsed": true
   },
   "outputs": [],
   "source": [
    "def dict_rep(x):\n",
    "    dr = {index: value for index, value in enumerate(x) if value != 0}\n",
    "    return dr"
   ]
  },
  {
   "cell_type": "code",
   "execution_count": 50,
   "metadata": {
    "collapsed": false
   },
   "outputs": [
    {
     "data": {
      "text/plain": [
       "{15: 1}"
      ]
     },
     "execution_count": 50,
     "metadata": {},
     "output_type": "execute_result"
    }
   ],
   "source": [
    "dict_rep([0,0,0,0,0,0,0,0,0,0,0,0,0,0,0, 1])"
   ]
  },
  {
   "cell_type": "code",
   "execution_count": 51,
   "metadata": {
    "collapsed": false
   },
   "outputs": [
    {
     "name": "stdout",
     "output_type": "stream",
     "text": [
      "Help on function dict_rep in module __main__:\n",
      "\n",
      "dict_rep(x)\n",
      "\n"
     ]
    }
   ],
   "source": [
    "help(dict_rep)"
   ]
  },
  {
   "cell_type": "code",
   "execution_count": 54,
   "metadata": {
    "collapsed": true
   },
   "outputs": [],
   "source": [
    "def dict_rep_with_help(x):\n",
    "    \"\"\"\n",
    "    Returns sparse dictionary representation of x\n",
    "    \"\"\"\n",
    "    dr = {index: value for index, value in enumerate(x) if value != 0}\n",
    "    return dr"
   ]
  },
  {
   "cell_type": "code",
   "execution_count": 55,
   "metadata": {
    "collapsed": false
   },
   "outputs": [
    {
     "name": "stdout",
     "output_type": "stream",
     "text": [
      "Help on function dict_rep_with_help in module __main__:\n",
      "\n",
      "dict_rep_with_help(x)\n",
      "    Returns sparse dictionary representation of x\n",
      "\n"
     ]
    }
   ],
   "source": [
    "help(dict_rep_with_help)"
   ]
  },
  {
   "cell_type": "code",
   "execution_count": 64,
   "metadata": {
    "collapsed": true
   },
   "outputs": [],
   "source": [
    "def drep(x):\n",
    "    \"\"\"\n",
    "    Returns sparse dictionary representation of x\n",
    "    \n",
    "    Example:\n",
    "    >>> drep([0, 0, 0, 1])\n",
    "    {3: 1}\n",
    "    \n",
    "    >>> drep([0, -4, 0 , 1])\n",
    "    {1: -4, 3: 1}\n",
    "    \"\"\"\n",
    "    dr = {index: value for index, value in enumerate(x) if value != 0}\n",
    "    return dr"
   ]
  },
  {
   "cell_type": "code",
   "execution_count": 65,
   "metadata": {
    "collapsed": false
   },
   "outputs": [
    {
     "name": "stdout",
     "output_type": "stream",
     "text": [
      "Help on function drep in module __main__:\n",
      "\n",
      "drep(x)\n",
      "    Returns sparse dictionary representation of x\n",
      "    \n",
      "    Example:\n",
      "    >>> drep([0, 0, 0, 1])\n",
      "    {3: 1}\n",
      "    \n",
      "    >>> drep([0, -4, 0 , 1])\n",
      "    {1: -4, 3: 1}\n",
      "\n"
     ]
    }
   ],
   "source": [
    "help(drep)"
   ]
  },
  {
   "cell_type": "code",
   "execution_count": 67,
   "metadata": {
    "collapsed": false
   },
   "outputs": [
    {
     "name": "stdout",
     "output_type": "stream",
     "text": [
      "Trying:\n",
      "    drep([0, 0, 0, 1])\n",
      "Expecting:\n",
      "    {3: 1}\n",
      "ok\n",
      "Trying:\n",
      "    drep([0, -4, 0 , 1])\n",
      "Expecting:\n",
      "    {1: -4, 3: 1}\n",
      "ok\n",
      "5 items had no tests:\n",
      "    __main__\n",
      "    __main__.dict_rep\n",
      "    __main__.dict_rep_with_help\n",
      "    __main__.print_message\n",
      "    __main__.square\n",
      "1 items passed all tests:\n",
      "   2 tests in __main__.drep\n",
      "2 tests in 6 items.\n",
      "2 passed and 0 failed.\n",
      "Test passed.\n"
     ]
    },
    {
     "data": {
      "text/plain": [
       "TestResults(failed=0, attempted=2)"
      ]
     },
     "execution_count": 67,
     "metadata": {},
     "output_type": "execute_result"
    }
   ],
   "source": [
    "import doctest\n",
    "doctest.testmod(verbose=True)"
   ]
  },
  {
   "cell_type": "code",
   "execution_count": null,
   "metadata": {
    "collapsed": true
   },
   "outputs": [],
   "source": []
  },
  {
   "cell_type": "code",
   "execution_count": null,
   "metadata": {
    "collapsed": true
   },
   "outputs": [],
   "source": []
  },
  {
   "cell_type": "markdown",
   "metadata": {
    "collapsed": true
   },
   "source": [
    "def square(x):\n",
    "    \"\"\"\n",
    "    Returns the square of the parameter x\n",
    "    \n",
    "    >>> square(4)\n",
    "    16\n",
    "    \n",
    "    >>> square(-1)\n",
    "    1\n",
    "    \"\"\"\n",
    "    return x ** 2"
   ]
  },
  {
   "cell_type": "code",
   "execution_count": 4,
   "metadata": {
    "collapsed": false
   },
   "outputs": [
    {
     "data": {
      "text/plain": [
       "TestResults(failed=0, attempted=2)"
      ]
     },
     "execution_count": 4,
     "metadata": {},
     "output_type": "execute_result"
    }
   ],
   "source": [
    "import doctest\n",
    "doctest.testmod()"
   ]
  },
  {
   "cell_type": "markdown",
   "metadata": {
    "collapsed": true
   },
   "source": [
    "### Test first development\n",
    "\n",
    "Task: let's make a function which takes a list, an index, and a default value:\n",
    "if the there is an element in the list at the index, we return this element, \n",
    "else we return the default value:"
   ]
  },
  {
   "cell_type": "code",
   "execution_count": 71,
   "metadata": {
    "collapsed": false
   },
   "outputs": [
    {
     "name": "stdout",
     "output_type": "stream",
     "text": [
      "Trying:\n",
      "    drep([0, 0, 0, 1])\n",
      "Expecting:\n",
      "    {3: 1}\n",
      "ok\n",
      "Trying:\n",
      "    drep([0, -4, 0 , 1])\n",
      "Expecting:\n",
      "    {1: -4, 3: 1}\n",
      "ok\n",
      "Trying:\n",
      "    get_value_at([], 0, -5)\n",
      "Expecting:\n",
      "    -5\n",
      "ok\n",
      "Trying:\n",
      "    get_value_at([2], 0, -5)\n",
      "Expecting:\n",
      "    2\n",
      "ok\n",
      "Trying:\n",
      "    get_value_at([3, 5, 6], 2, -1)\n",
      "Expecting:\n",
      "    6\n",
      "ok\n",
      "Trying:\n",
      "    get_value_at([3, 4, 5, 6], -1, 0)\n",
      "Expecting:\n",
      "    6\n",
      "ok\n",
      "5 items had no tests:\n",
      "    __main__\n",
      "    __main__.dict_rep\n",
      "    __main__.dict_rep_with_help\n",
      "    __main__.print_message\n",
      "    __main__.square\n",
      "2 items passed all tests:\n",
      "   2 tests in __main__.drep\n",
      "   4 tests in __main__.get_value_at\n",
      "6 tests in 7 items.\n",
      "6 passed and 0 failed.\n",
      "Test passed.\n"
     ]
    },
    {
     "data": {
      "text/plain": [
       "TestResults(failed=0, attempted=6)"
      ]
     },
     "execution_count": 71,
     "metadata": {},
     "output_type": "execute_result"
    }
   ],
   "source": [
    "def get_value_at(a_list, index, default):\n",
    "    \"\"\"\n",
    "    Tests:\n",
    "    >>> get_value_at([], 0, -5)\n",
    "    -5\n",
    "    \n",
    "    >>> get_value_at([2], 0, -5)\n",
    "    2\n",
    "    \n",
    "    >>> get_value_at([3, 5, 6], 2, -1)\n",
    "    6\n",
    "    \n",
    "    >>> get_value_at([3, 4, 5, 6], -1, 0)\n",
    "    6\n",
    "    \"\"\"\n",
    "    if index < len(a_list):\n",
    "        return a_list[index]\n",
    "    else:\n",
    "        return default\n",
    "import doctest\n",
    "doctest.testmod(verbose=True)"
   ]
  },
  {
   "cell_type": "code",
   "execution_count": null,
   "metadata": {
    "collapsed": true
   },
   "outputs": [],
   "source": []
  }
 ],
 "metadata": {
  "kernelspec": {
   "display_name": "Python 3",
   "language": "python",
   "name": "python3"
  },
  "language_info": {
   "codemirror_mode": {
    "name": "ipython",
    "version": 3
   },
   "file_extension": ".py",
   "mimetype": "text/x-python",
   "name": "python",
   "nbconvert_exporter": "python",
   "pygments_lexer": "ipython3",
   "version": "3.6.0"
  }
 },
 "nbformat": 4,
 "nbformat_minor": 2
}
