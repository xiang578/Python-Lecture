{
 "cells": [
  {
   "cell_type": "markdown",
   "metadata": {},
   "source": [
    "# Python Exercise 12: Hangman game\n",
    "\n",
    "In this exercise we will implement a simple form of the **Hangman** game together. The goal of the game is to guess a word. In the beginning of the game, a random word is chosen from a list. The player sees a list of stars, each one representing the one character of the word. The player is guessing one character after the other. If the guessed character is in the word, the corresponding star(s) are changed into the character. If the character is not inside the word, the player loses one out of 10 *lifes*. \n",
    "\n",
    "**Example** Suppose the word `school` is randomly chosen. The game might look like this:\n",
    "\n",
    "```\n",
    "guess (10 lifes left): ******\n",
    "> a (player choses 'a')\n",
    "guess (9 lifes left): ******\n",
    "> e\n",
    "guess (8 lifes left): ******\n",
    "> o\n",
    "guess (8 lifes left): ***oo*\n",
    "> k\n",
    "guess (7 lifes left): ***oo*\n",
    "> s\n",
    "guess (7 lifes left) s**oo*\n",
    "..... (and so on)\n",
    "```\n",
    "\n",
    "### First step: load list of words\n",
    "\n",
    "The file `words.txt` contains 42869 English words, each of them is saved on a separate line. Open the file, convert all the words to lower text, and store all words with 4 or more characters in a list `all_words`: "
   ]
  },
  {
   "cell_type": "code",
   "execution_count": 1,
   "metadata": {
    "collapsed": false
   },
   "outputs": [],
   "source": [
    "with open('words.txt') as file:\n",
    "    # add your code here\n",
    "    all_words=[]\n",
    "    for line in file:\n",
    "        t=line.strip()\n",
    "        t=t.lower()\n",
    "        if len(t)>=4:\n",
    "            all_words.append(t)\n",
    "    #all_words=[line.strip().lower() for line in file if len(line)>3]"
   ]
  },
  {
   "cell_type": "markdown",
   "metadata": {},
   "source": [
    "**Hint:** the `strip` method of `str` can be used to remove the new-line character at the end of the line.\n",
    "\n",
    "### Step two: implement basic game\n",
    "\n",
    "You should now implement the basic version of the game as outlined above. \n",
    "\n",
    "**Remarks**:\n",
    "1. Start by first thinking about and implementing the core game logic, take care of user input and the game loop later\n",
    "2. The `choice` method of the `random` module chooses a random word from a list:"
   ]
  },
  {
   "cell_type": "code",
   "execution_count": 2,
   "metadata": {
    "collapsed": false
   },
   "outputs": [
    {
     "data": {
      "text/plain": [
       "['c', 'o', 'p', 's', 'e', 's']"
      ]
     },
     "execution_count": 2,
     "metadata": {},
     "output_type": "execute_result"
    }
   ],
   "source": [
    "import random\n",
    "ans=list(random.choice(all_words))\n",
    "ans"
   ]
  },
  {
   "cell_type": "markdown",
   "metadata": {},
   "source": [
    "When writing the game, it might be useful to first test your game logic with a fixed word (for example `school` or `seesaw` or any other word which contains the same character twice) before moving on the implementing the whole game. At the end of the game print a message (`you won!` or show the word the player should have guessed)."
   ]
  },
  {
   "cell_type": "code",
   "execution_count": 3,
   "metadata": {
    "collapsed": false
   },
   "outputs": [
    {
     "name": "stdout",
     "output_type": "stream",
     "text": [
      "guess ( 10  lifes left): ******\n",
      "> \n",
      "guess ( 9  lifes left): ******\n",
      "\n",
      "> \n",
      "guess ( 8  lifes left): ******\n",
      "/       \\\n",
      "\n",
      "> \n",
      "guess ( 7  lifes left): ******\n",
      " /     \\\n",
      "/       \\\n",
      "\n",
      "> \n",
      "guess ( 6  lifes left): ******\n",
      "  -----\n",
      " /     \\\n",
      "/       \\\n",
      "\n",
      "> \n",
      "guess ( 5  lifes left): ******\n",
      "    |\n",
      "  -----\n",
      " /     \\\n",
      "/       \\\n",
      "\n",
      "> \n",
      "guess ( 4  lifes left): ******\n",
      "    | / \\\n",
      "    |\n",
      "  -----\n",
      " /     \\\n",
      "/       \\\n",
      "\n",
      "> \n",
      "guess ( 3  lifes left): ******\n",
      "    |  |\n",
      "    | / \\\n",
      "    |\n",
      "  -----\n",
      " /     \\\n",
      "/       \\\n",
      "\n",
      "> \n",
      "guess ( 2  lifes left): ******\n",
      "    | \\0/\n",
      "    |  |\n",
      "    | / \\\n",
      "    |\n",
      "  -----\n",
      " /     \\\n",
      "/       \\\n",
      "\n",
      "> \n",
      "guess ( 1  lifes left): ******\n",
      "    |  |\n",
      "    | \\0/\n",
      "    |  |\n",
      "    | / \\\n",
      "    |\n",
      "  -----\n",
      " /     \\\n",
      "/       \\\n",
      "\n",
      "> \n",
      "the answer is ['c', 'o', 'p', 's', 'e', 's']\n"
     ]
    }
   ],
   "source": [
    "gp=[\"    ---- \",\"    |  |\",\"    | \\\\0/\",\"    |  |\",\"    | / \\\\\",\"    |\",\"  -----\",\" /     \\\\\",\"/       \\\\\" ,\"\"]\n",
    "def printgp(cnt):\n",
    "    for i in range(cnt,10):\n",
    "        print(gp[i])\n",
    "    return \n",
    "tmp=[\"*\" for i in ans]\n",
    "lifes=10\n",
    "while lifes>0:\n",
    "    print (\"guess (\",lifes,\" lifes left):\",\"\".join(tmp))\n",
    "    printgp(lifes)\n",
    "    s=input('> ')  \n",
    "    x=list(s)\n",
    "    ok=0\n",
    "    for i in range(0,len(ans)):\n",
    "        if len(x)==0:\n",
    "            break\n",
    "        if ans[i]==tmp[i]:\n",
    "            continue\n",
    "        if ans[i]==x[0]:\n",
    "            tmp[i]=x[0]\n",
    "            ok=1\n",
    "            break\n",
    "    if ok==0:\n",
    "        lifes-=1\n",
    "if ans==tmp:\n",
    "    print(\"you won!\")\n",
    "else:\n",
    "    print(\"the answer is\",ans)"
   ]
  },
  {
   "cell_type": "markdown",
   "metadata": {},
   "source": [
    "### Step three: adding 'graphics'\n",
    "\n",
    "In the *Hangman* game we normally visualize the remaining lifes of the player by using a small ASCII-art of a man going to be hanged. The complete picture (representing 0 lifes left, *game lost*) looks like this:\n",
    "```\n",
    "    ---- \n",
    "    |  |\n",
    "    | \\0/\n",
    "    |  |\n",
    "    | / \\\n",
    "    |\n",
    "  -----\n",
    " /     \\\n",
    "/       \\\n",
    "```\n",
    "When the player still has ten lifes left, an empty picture is show. After one life has been lost, the hill is drawn:\n",
    "```\n",
    "  -----\n",
    " /     \\\n",
    "/       \\\n",
    "```\n",
    "after two lifes are lost the first vertical stroke is drawn:\n",
    "```\n",
    "    |  \n",
    "    | \n",
    "    | \n",
    "    | \n",
    "    |\n",
    "  -----\n",
    " /     \\\n",
    "/       \\\n",
    "```\n",
    "and so on.\n",
    "\n",
    "Your final task is to add this graphics to the game."
   ]
  },
  {
   "cell_type": "code",
   "execution_count": null,
   "metadata": {
    "collapsed": false
   },
   "outputs": [],
   "source": []
  }
 ],
 "metadata": {
  "kernelspec": {
   "display_name": "Python 3",
   "language": "python",
   "name": "python3"
  },
  "language_info": {
   "codemirror_mode": {
    "name": "ipython",
    "version": 3
   },
   "file_extension": ".py",
   "mimetype": "text/x-python",
   "name": "python",
   "nbconvert_exporter": "python",
   "pygments_lexer": "ipython3",
   "version": "3.6.0"
  }
 },
 "nbformat": 4,
 "nbformat_minor": 2
}
