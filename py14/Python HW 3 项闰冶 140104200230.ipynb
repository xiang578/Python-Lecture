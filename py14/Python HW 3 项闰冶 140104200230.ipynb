{
 "cells": [
  {
   "cell_type": "markdown",
   "metadata": {},
   "source": [
    "# Python Exercise 14: dealing with databases - Homework 3\n",
    "\n",
    "\n",
    "### This exercise is part you the homework you need to submit for your final grade\n",
    "\n",
    "* Please try to answer all the questions in this exercise and send your solution to me via email before the end of May 30th 2017.\n",
    "* This homework is worth 15% of your final grade\n",
    "* Please prepare and submit your Exercise according to the instructions below. **I will deduce points** if your exercise is not submitted according to the instructions or is submitted late.\n",
    "* For each question you should provide source to answer it and summarize your findings (in Chinese or English, in any case I will not grade your English as long as I can understand the meaning).\n",
    "\n",
    "### Instructions for submission\n",
    "* Enter your name, major and your student number in the field below (in Chinese). Double click on the field to edit it."
   ]
  },
  {
   "cell_type": "markdown",
   "metadata": {},
   "source": [
    "**Name:**  项闰冶 **major** 计算机科学与技术 **student number** 140104200230      "
   ]
  },
  {
   "cell_type": "markdown",
   "metadata": {},
   "source": [
    "* Change the name of the notebook to the following format\n",
    "```\n",
    "Python HW 3 <yourname> <your student no>\n",
    "```\n",
    "(you can change the name in the menu below `File->Rename`. So, if you name is 马小龙 and your student number is 2018101111000111, you should change the name of the notebook to `Python HW 3 马小龙 2018101111000111`\n",
    "\n",
    "* Export the notebook both as a HTML file and as notebook (choose `File->Download as` from the menu)\n",
    "* Send both files to me via email to 2485707749@qq.com before the end of Tuesday, May 30th 2017\n",
    "* your email should mention both your name and your student number in the subject\n",
    "* to repeat, your name and student number should appear in three different places: in the text above, in the filename, and in the subject of your email!\n",
    "\n",
    "\n",
    "**I will deduce points if your exercise is not submitted according to the instructions or is submitted late.**"
   ]
  },
  {
   "cell_type": "markdown",
   "metadata": {},
   "source": [
    "\n",
    "\n",
    "### Installing sqlite3\n",
    "\n",
    "You first should install the sqlite3 database: download the zip files `sqlite-dll-win32-x86-3190000.zip` and `sqlite-tools-win32-x86-3190000.zip` (or the corresponding files if you are using another operating system) from the website  http://sqlite.org/download.html (or from our QQ group) and unpack them. <ake sure you place the `.dll` file from the first zip in the same directory as your Python notebook.\n",
    "\n",
    "If you are **not** using the Anaconda distribution you might also need to install the \n",
    " ``sqlite`` database package:  Enter the following command inside a command line:\n",
    "\n",
    "```\n",
    "apt-get install sqlite3\n",
    "```\n",
    "\n",
    "### Problem 14-1:\n",
    "\n",
    "Open a connection the a database and write a program which creates tables to store products, customers, and orders. Each product has an ID, a name, a description, and a price. In one order a customer can only order a single product, but it is possible to order multiple copies of the same product in one order. Finally, a customer has a customer ID, a name, and a telephone number.\n",
    "\n",
    "Add at least three products, four customers, and five orders to the database. This data can be hard-coded, no need to use user-input.\n"
   ]
  },
  {
   "cell_type": "code",
   "execution_count": 8,
   "metadata": {
    "collapsed": false
   },
   "outputs": [],
   "source": [
    "import sqlite3\n",
    "conn = sqlite3.connect('sales.db')\n",
    "cursor = conn.cursor()"
   ]
  },
  {
   "cell_type": "code",
   "execution_count": 20,
   "metadata": {
    "collapsed": false
   },
   "outputs": [
    {
     "data": {
      "text/plain": [
       "<sqlite3.Cursor at 0x4f03500>"
      ]
     },
     "execution_count": 20,
     "metadata": {},
     "output_type": "execute_result"
    }
   ],
   "source": [
    "#下面三个分别为创建三张表\n",
    "sql1 = '''CREATE TABLE  Products(\n",
    "    productID integer,\n",
    "    productName text, \n",
    "    description text, \n",
    "    price integer\n",
    ")'''\n",
    "cursor.execute(sql1)"
   ]
  },
  {
   "cell_type": "code",
   "execution_count": 21,
   "metadata": {
    "collapsed": false
   },
   "outputs": [
    {
     "data": {
      "text/plain": [
       "<sqlite3.Cursor at 0x4f03500>"
      ]
     },
     "execution_count": 21,
     "metadata": {},
     "output_type": "execute_result"
    }
   ],
   "source": [
    "sql2 = '''CREATE TABLE Customers (\n",
    "    customerID integer,\n",
    "    customerName text, \n",
    "    telephoneNumber text\n",
    ")'''\n",
    "cursor.execute(sql2)"
   ]
  },
  {
   "cell_type": "code",
   "execution_count": 23,
   "metadata": {
    "collapsed": false
   },
   "outputs": [
    {
     "data": {
      "text/plain": [
       "<sqlite3.Cursor at 0x4f03500>"
      ]
     },
     "execution_count": 23,
     "metadata": {},
     "output_type": "execute_result"
    }
   ],
   "source": [
    "sql3 = '''CREATE TABLE Orders (\n",
    "    productID integer,\n",
    "    customerID integer,\n",
    "    amount integer\n",
    ")'''\n",
    "cursor.execute(sql3)"
   ]
  },
  {
   "cell_type": "code",
   "execution_count": 19,
   "metadata": {
    "collapsed": false
   },
   "outputs": [
    {
     "data": {
      "text/plain": [
       "<sqlite3.Cursor at 0x4e17d50>"
      ]
     },
     "execution_count": 19,
     "metadata": {},
     "output_type": "execute_result"
    }
   ],
   "source": [
    "conn.execute('drop table Customers')\n",
    "conn.execute('drop table Products')\n",
    "conn.execute('drop table Orders')"
   ]
  },
  {
   "cell_type": "code",
   "execution_count": 24,
   "metadata": {
    "collapsed": false
   },
   "outputs": [
    {
     "data": {
      "text/plain": [
       "<sqlite3.Cursor at 0x4f03500>"
      ]
     },
     "execution_count": 24,
     "metadata": {},
     "output_type": "execute_result"
    }
   ],
   "source": [
    "#下面三个为创建数据\n",
    "cursor.execute(\"insert into Products values (?, ?, ?,?)\", \n",
    "               (1,\"book\", \"This is a book\", 38))\n",
    "cursor.execute(\"insert into Products values (?, ?, ?,?)\", \n",
    "               (2,\"pen\", \"This is a pen\", 3))\n",
    "cursor.execute(\"insert into Products values (?, ?, ?,?)\", \n",
    "               (3,\"key\", \"This is a key\", 10))"
   ]
  },
  {
   "cell_type": "code",
   "execution_count": 25,
   "metadata": {
    "collapsed": false
   },
   "outputs": [
    {
     "data": {
      "text/plain": [
       "<sqlite3.Cursor at 0x4f03500>"
      ]
     },
     "execution_count": 25,
     "metadata": {},
     "output_type": "execute_result"
    }
   ],
   "source": [
    "cursor.execute(\"insert into Customers values (?,?,?)\", \n",
    "               (1,\"A\", \"17816853681\"))\n",
    "cursor.execute(\"insert into Customers values (?, ?,?)\", \n",
    "               (2,\"B\", \"17816853682\"))\n",
    "cursor.execute(\"insert into Customers values (?, ?,?)\", \n",
    "               (3,\"C\", \"17816853683\"))\n",
    "cursor.execute(\"insert into Customers values (?, ?,?)\", \n",
    "               (4,\"D\", \"17816853684\"))"
   ]
  },
  {
   "cell_type": "code",
   "execution_count": 26,
   "metadata": {
    "collapsed": false
   },
   "outputs": [
    {
     "data": {
      "text/plain": [
       "<sqlite3.Cursor at 0x4f03500>"
      ]
     },
     "execution_count": 26,
     "metadata": {},
     "output_type": "execute_result"
    }
   ],
   "source": [
    "cursor.execute(\"insert into Orders values (?, ?,?)\", \n",
    "               (1,1, 10))\n",
    "cursor.execute(\"insert into Orders values (?, ?,?)\", \n",
    "               (2,2, 1))\n",
    "cursor.execute(\"insert into Orders values (?, ?,?)\", \n",
    "               (3,3, 4))\n",
    "cursor.execute(\"insert into Orders values (?, ?,?)\", \n",
    "               (1,3, 7))\n",
    "cursor.execute(\"insert into Orders values (?, ?,?)\", \n",
    "               (1,2, 5))"
   ]
  },
  {
   "cell_type": "markdown",
   "metadata": {},
   "source": [
    "### Problem 14-2:\n",
    "\n",
    "Write code to print out the information of all customers, all orders, and all products. Each order should contain the total amount of the order. For each customer print out how many orders he placed and how much money he spend. For each product, print how often it was sold and to how many different customers it was sold."
   ]
  },
  {
   "cell_type": "code",
   "execution_count": 31,
   "metadata": {
    "collapsed": false
   },
   "outputs": [
    {
     "name": "stdout",
     "output_type": "stream",
     "text": [
      "(1, 'A', 1, 'book', 10, 380)\n",
      "(2, 'B', 2, 'pen', 1, 3)\n",
      "(3, 'C', 3, 'key', 4, 40)\n",
      "(3, 'C', 1, 'book', 7, 266)\n",
      "(2, 'B', 1, 'book', 5, 190)\n"
     ]
    }
   ],
   "source": [
    "# order，利用where语句连接三张表\n",
    "sql='''\n",
    "select Orders.customerID,customerName,Orders.productID,productName,amount,amount*price\n",
    "from Orders,Customers,Products\n",
    "where Orders.customerID=Customers.customerID and Orders.productID=Products.productID\n",
    "'''\n",
    "for row in cursor.execute(sql):\n",
    "    print(row)"
   ]
  },
  {
   "cell_type": "code",
   "execution_count": 39,
   "metadata": {
    "collapsed": false
   },
   "outputs": [
    {
     "name": "stdout",
     "output_type": "stream",
     "text": [
      "(1, 'A', 1, 380)\n",
      "(2, 'B', 2, 193)\n",
      "(3, 'C', 2, 306)\n"
     ]
    }
   ],
   "source": [
    "#customer，利用left join 连接Customers和Orders表，用where连接新生成的表和Products\n",
    "sql='''\n",
    "select Customers.customerID,customerName,count(Orders.productID),sum(Orders.amount*price)\n",
    "from Customers left join Orders on Customers.customerID=Orders.customerID,Products\n",
    "where Orders.productID=Products.productID\n",
    "group by Customers.customerID\n",
    "'''\n",
    "for row in cursor.execute(sql):\n",
    "    print(row)"
   ]
  },
  {
   "cell_type": "code",
   "execution_count": 41,
   "metadata": {
    "collapsed": false
   },
   "outputs": [
    {
     "name": "stdout",
     "output_type": "stream",
     "text": [
      "(1, 'book', 'This is a book', 38, 3)\n",
      "(2, 'pen', 'This is a pen', 3, 1)\n",
      "(3, 'key', 'This is a key', 10, 1)\n"
     ]
    }
   ],
   "source": [
    "# 利用left join连接 Products和Orders\n",
    "sql='''select  p.productID,productName,description,price,count(customerID)\n",
    "from Products as p left join Orders as o on p.productID=o.productID\n",
    "group by p.productID'''\n",
    "for row in cursor.execute(sql):\n",
    "    print(row)"
   ]
  }
 ],
 "metadata": {
  "kernelspec": {
   "display_name": "Python 3",
   "language": "python",
   "name": "python3"
  },
  "language_info": {
   "codemirror_mode": {
    "name": "ipython",
    "version": 3
   },
   "file_extension": ".py",
   "mimetype": "text/x-python",
   "name": "python",
   "nbconvert_exporter": "python",
   "pygments_lexer": "ipython3",
   "version": "3.6.0"
  }
 },
 "nbformat": 4,
 "nbformat_minor": 0
}
