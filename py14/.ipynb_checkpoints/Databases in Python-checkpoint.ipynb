{
 "cells": [
  {
   "cell_type": "markdown",
   "metadata": {},
   "source": [
    "# Databases\n",
    "\n",
    "* we will study how to connect to a SQL database using Python\n",
    "* we will use sqlite3:\n",
    "    * a very small, portable database written in C\n",
    "    * stores data in *.sqlite files\n",
    "    * webpage http://sqlite.org\n",
    "    * can be downloaded from http://sqlite.org/download.html (choose both dll and tools packages)\n",
    "* sqlite3 driver (= library to connect to sqlite3) is part of python standard library\n",
    "* many SQL databases can be accessed from Python in the same way (using Python Database API Specification v2.0 (PEP 249)).\n",
    "\n",
    "\n",
    "## Using the sqlite3 package\n",
    "\n",
    "In order to connect to a database, we need to:\n",
    "\n",
    "1. use the ``connect`` method to open a *connection* to the database\n",
    "1. use the ``cursor`` method of the connection to get a curso\n",
    "1. and finally can use the ``execute`` method of the cursor to execute SQL statemente\n",
    "\n",
    "We can use the same cursor to execute more than one query."
   ]
  },
  {
   "cell_type": "code",
   "execution_count": 1,
   "metadata": {
    "collapsed": false
   },
   "outputs": [],
   "source": [
    "import sqlite3\n",
    "conn = sqlite3.connect('exampleclass.db')\n",
    "cursor = conn.cursor()\n"
   ]
  },
  {
   "cell_type": "markdown",
   "metadata": {},
   "source": [
    "We can now use the cursor:"
   ]
  },
  {
   "cell_type": "code",
   "execution_count": 2,
   "metadata": {
    "collapsed": false
   },
   "outputs": [
    {
     "data": {
      "text/plain": [
       "<sqlite3.Cursor at 0x4dc8490>"
      ]
     },
     "execution_count": 2,
     "metadata": {},
     "output_type": "execute_result"
    }
   ],
   "source": [
    "sql = '''CREATE TABLE contacts (\n",
    "    name text, \n",
    "    tel text, \n",
    "    age integer\n",
    ")'''\n",
    "\n",
    "cursor.execute(sql)\n"
   ]
  },
  {
   "cell_type": "code",
   "execution_count": 3,
   "metadata": {
    "collapsed": false
   },
   "outputs": [
    {
     "name": "stdout",
     "output_type": "stream",
     "text": [
      "insert into contacts values ('christoph' ,'123',25)\n"
     ]
    }
   ],
   "source": [
    "name = 'christoph'\n",
    "tel = '123'\n",
    "age = 25\n",
    "\n",
    "#sql2 = \"insert into contacts values ('\" +name+ \"' ,'\" + tel+ \"',\" + str(age) + \")\" \n",
    "#print(sql2)\n",
    "\n",
    "#cursor.execute(sql2)"
   ]
  },
  {
   "cell_type": "markdown",
   "metadata": {},
   "source": [
    "Simple queries without user supplied values can be entered using a simple SQL string. \n",
    "\n",
    "If the query contains user-supplied values, we should:\n",
    "\n",
    "* add a ``?`` as a placeholder in the query-string\n",
    "* supplies the values as a second parameter to the execute statement (wrapped in a tuple)\n",
    "\n",
    "This prevents **SQL injection**"
   ]
  },
  {
   "cell_type": "code",
   "execution_count": 12,
   "metadata": {
    "collapsed": false
   },
   "outputs": [
    {
     "data": {
      "text/plain": [
       "<sqlite3.Cursor at 0x10d4f68f0>"
      ]
     },
     "execution_count": 12,
     "metadata": {},
     "output_type": "execute_result"
    }
   ],
   "source": [
    "cursor.execute(\"insert into contacts values (?, ?, ?)\", \n",
    "               (\"Christoph\", \"12345\", 38))\n",
    "cursor.execute(\"insert into contacts values (?, ?, ?)\", \n",
    "               (\"Susanne\", \"87654\", 32))"
   ]
  },
  {
   "cell_type": "code",
   "execution_count": 5,
   "metadata": {
    "collapsed": false
   },
   "outputs": [
    {
     "name": "stdout",
     "output_type": "stream",
     "text": [
      "None\n"
     ]
    }
   ],
   "source": [
    "print(cursor.execute(\"insert into contacts values (?, ?, ?)\", \n",
    "               (\"Christoph\", \"12345\", 38)).fetchone())"
   ]
  },
  {
   "cell_type": "markdown",
   "metadata": {},
   "source": [
    "## Values returned from a DB\n",
    "\n",
    "We have the following ways of getting the values from an executed SQL statement:\n",
    "\n",
    "* use the cursor as an iterator\n",
    "* use the ``fetchone`` method to get back one row\n",
    "* use the ``fetchall`` method to get all rows back as a list\n",
    "\n",
    "these methods return the contents of a single row as a tuple"
   ]
  },
  {
   "cell_type": "code",
   "execution_count": 13,
   "metadata": {
    "collapsed": false
   },
   "outputs": [
    {
     "name": "stdout",
     "output_type": "stream",
     "text": [
      "('Christoph', '12345', 38)\n",
      "('Susanne', '87654', 32)\n"
     ]
    }
   ],
   "source": [
    "for row in cursor.execute(\"select * from contacts\"):\n",
    "    print(row)"
   ]
  },
  {
   "cell_type": "code",
   "execution_count": 14,
   "metadata": {
    "collapsed": false
   },
   "outputs": [
    {
     "name": "stdout",
     "output_type": "stream",
     "text": [
      "('Christoph', '12345', 38)\n"
     ]
    }
   ],
   "source": [
    "data =  cursor.execute(\"select * from contacts\").fetchone()\n",
    "print(data)"
   ]
  },
  {
   "cell_type": "code",
   "execution_count": 15,
   "metadata": {
    "collapsed": false
   },
   "outputs": [
    {
     "name": "stdout",
     "output_type": "stream",
     "text": [
      "[('Christoph', '12345', 38), ('Susanne', '87654', 32)]\n"
     ]
    }
   ],
   "source": [
    "allrows = cursor.execute(\"select * from contacts\").fetchall()\n",
    "print(allrows)"
   ]
  },
  {
   "cell_type": "code",
   "execution_count": 16,
   "metadata": {
    "collapsed": true
   },
   "outputs": [],
   "source": [
    "conn.commit()"
   ]
  },
  {
   "cell_type": "code",
   "execution_count": null,
   "metadata": {
    "collapsed": false
   },
   "outputs": [],
   "source": [
    "{\n",
    "   'customer': \"Christoph\",\n",
    "   'date': \"2016-05-18\",\n",
    "   'items': [\n",
    "        {\n",
    "           \"name\": \"iPhone\",\n",
    "           \"price\": 5288.0,\n",
    "           \"number\": 2\n",
    "        },\n",
    "        {\n",
    "           \"name\": \"iPad mini\",\n",
    "           \"price\": 2588.0,\n",
    "           \"number\": 1\n",
    "        },\n",
    "        {\n",
    "           \"name\": \"macbook\",\n",
    "           \"price\": 8288.0,\n",
    "           \"number\": 1\n",
    "        }\n",
    "    ]\n",
    "}\n",
    "\n",
    "def insert_order(order):\n",
    "    sql_order = '''insert into table orders \n",
    "        (customer, date) values (?, ?)'''\n",
    "    order_vals = (order['customer', order['date'])\n",
    "\n",
    "    cursor.execute(sql_order, order_vals)\n",
    "    auto_id = #last generated id\n",
    "    sql_item = '''insert into table order_items values (?,?,?,?)'''\n",
    "    for item in order['items']:\n",
    "        cursor.execute(sql_item, (auto_id,\n",
    "                                  item['name'],\n",
    "                                  item['price'],\n",
    "                                  item['number']))\n",
    "        "
   ]
  },
  {
   "cell_type": "markdown",
   "metadata": {},
   "source": [
    "## SQL injection\n",
    "\n",
    "**Never**, **never**, **never** build up your queries by appending user supplied values to a string! This can lead to SQL injection.\n",
    "\n",
    "Example (don't something like this): we want to get the telephone number corresponding to a name"
   ]
  },
  {
   "cell_type": "code",
   "execution_count": 7,
   "metadata": {
    "collapsed": false
   },
   "outputs": [
    {
     "name": "stdout",
     "output_type": "stream",
     "text": [
      "12345\n",
      "12345\n"
     ]
    }
   ],
   "source": [
    "user_value = 'Christoph'\n",
    "\n",
    "sql = \"select tel from contacts where name = '\" + user_value + \"'\"\n",
    "\n",
    "for row in cursor.execute(sql):\n",
    "    print(row[0])"
   ]
  },
  {
   "cell_type": "markdown",
   "metadata": {},
   "source": [
    "What happens when the user enters the following `name`:"
   ]
  },
  {
   "cell_type": "code",
   "execution_count": 8,
   "metadata": {
    "collapsed": false
   },
   "outputs": [
    {
     "ename": "Warning",
     "evalue": "You can only execute one statement at a time.",
     "output_type": "error",
     "traceback": [
      "\u001b[0;31m---------------------------------------------------------------------------\u001b[0m",
      "\u001b[0;31mWarning\u001b[0m                                   Traceback (most recent call last)",
      "\u001b[0;32m<ipython-input-8-b3a281d1bec5>\u001b[0m in \u001b[0;36m<module>\u001b[0;34m()\u001b[0m\n\u001b[1;32m      3\u001b[0m \u001b[0msql\u001b[0m \u001b[0;34m=\u001b[0m \u001b[0;34m\"select tel from contacts where name = '\"\u001b[0m \u001b[0;34m+\u001b[0m \u001b[0muser_value\u001b[0m \u001b[0;34m+\u001b[0m \u001b[0;34m\"'\"\u001b[0m\u001b[0;34m\u001b[0m\u001b[0m\n\u001b[1;32m      4\u001b[0m \u001b[0;34m\u001b[0m\u001b[0m\n\u001b[0;32m----> 5\u001b[0;31m \u001b[0;32mfor\u001b[0m \u001b[0mrow\u001b[0m \u001b[0;32min\u001b[0m \u001b[0mcursor\u001b[0m\u001b[0;34m.\u001b[0m\u001b[0mexecute\u001b[0m\u001b[0;34m(\u001b[0m\u001b[0msql\u001b[0m\u001b[0;34m)\u001b[0m\u001b[0;34m:\u001b[0m\u001b[0;34m\u001b[0m\u001b[0m\n\u001b[0m\u001b[1;32m      6\u001b[0m     \u001b[0mprint\u001b[0m\u001b[0;34m(\u001b[0m\u001b[0mrow\u001b[0m\u001b[0;34m[\u001b[0m\u001b[0;36m0\u001b[0m\u001b[0;34m]\u001b[0m\u001b[0;34m)\u001b[0m\u001b[0;34m\u001b[0m\u001b[0m\n",
      "\u001b[0;31mWarning\u001b[0m: You can only execute one statement at a time."
     ]
    }
   ],
   "source": [
    "user_value = \"Christoph'; drop table contacts --\"\n",
    "\n",
    "sql = \"select tel from contacts where name = '\" + user_value + \"'\"\n",
    "\n",
    "for row in cursor.execute(sql):\n",
    "    print(row[0])"
   ]
  },
  {
   "cell_type": "markdown",
   "metadata": {},
   "source": [
    "So, actually sqlite3 prevents us from dropping the table. This will not work with other databases (like PostGreSQL)..."
   ]
  },
  {
   "cell_type": "markdown",
   "metadata": {
    "collapsed": false
   },
   "source": [
    "## Commit and rollback\n",
    "\n",
    "If you want to make your changes to the database persist after the connection is closed, you need to use `commit()` to save the changes to the database, you can also use `rollback` to rollback the changes since the last commit.\n"
   ]
  },
  {
   "cell_type": "code",
   "execution_count": 17,
   "metadata": {
    "collapsed": false
   },
   "outputs": [
    {
     "data": {
      "text/plain": [
       "<sqlite3.Cursor at 0x10d4f68f0>"
      ]
     },
     "execution_count": 17,
     "metadata": {},
     "output_type": "execute_result"
    }
   ],
   "source": [
    "cursor.execute(\"\"\"\n",
    "create table accounts (\n",
    "    id integer,\n",
    "    name text,\n",
    "    amount float\n",
    ")\n",
    "\"\"\")"
   ]
  },
  {
   "cell_type": "code",
   "execution_count": 23,
   "metadata": {
    "collapsed": false
   },
   "outputs": [
    {
     "data": {
      "text/plain": [
       "<sqlite3.Cursor at 0x10d4f68f0>"
      ]
     },
     "execution_count": 23,
     "metadata": {},
     "output_type": "execute_result"
    }
   ],
   "source": [
    "cursor.execute('insert into accounts values(?, ?, ?)', (1, 'chris', 1000))"
   ]
  },
  {
   "cell_type": "code",
   "execution_count": 24,
   "metadata": {
    "collapsed": false
   },
   "outputs": [
    {
     "data": {
      "text/plain": [
       "<sqlite3.Cursor at 0x10d4f68f0>"
      ]
     },
     "execution_count": 24,
     "metadata": {},
     "output_type": "execute_result"
    }
   ],
   "source": [
    "cursor.execute('insert into accounts values(?, ?, ?)', (2, 'phil', 2000))"
   ]
  },
  {
   "cell_type": "code",
   "execution_count": 25,
   "metadata": {
    "collapsed": true
   },
   "outputs": [],
   "source": [
    "conn.commit()"
   ]
  },
  {
   "cell_type": "code",
   "execution_count": 44,
   "metadata": {
    "collapsed": false
   },
   "outputs": [],
   "source": [
    "class InsufficientAmount(Exception):\n",
    "    pass\n",
    "\n",
    "cursor = conn.cursor()\n",
    "\n",
    "### code to make a transaction:\n",
    "def make_trans(from_id, to_id, amount):\n",
    "    sql_check_amount = 'select amount from accounts where id = ?' \n",
    "    available = cursor.execute(sql_check_amount, (from_id,)).fetchone()[0]\n",
    "    if available < amount:\n",
    "        raise InsufficientAmount\n",
    "    sql1 = '''update accounts set amount = amount - ? where id = ?'''\n",
    "    cursor.execute(sql1, (amount, from_id))\n",
    "    if not cursor.execute('select id from accounts where id = ?', (to_id,)).fetchone():\n",
    "        conn.rollback()\n",
    "        raise Exception\n",
    "    sql2 = '''update accounts set amount = amount + ? where id = ?'''\n",
    "    cursor.execute(sql2, (amount, to_id))\n",
    "    sql3 = '''insert into transactions values(?, ?, ?)'''\n",
    "    cursor.execute(sql3, (from_id, to_id, amount))\n",
    "    conn.commit()\n",
    "    \n",
    "make_trans(2,1,  100)"
   ]
  },
  {
   "cell_type": "code",
   "execution_count": 41,
   "metadata": {
    "collapsed": false
   },
   "outputs": [
    {
     "ename": "TypeError",
     "evalue": "'NoneType' object is not subscriptable",
     "output_type": "error",
     "traceback": [
      "\u001b[0;31m---------------------------------------------------------------------------\u001b[0m",
      "\u001b[0;31mTypeError\u001b[0m                                 Traceback (most recent call last)",
      "\u001b[0;32m<ipython-input-41-565d3fbef351>\u001b[0m in \u001b[0;36m<module>\u001b[0;34m()\u001b[0m\n\u001b[0;32m----> 1\u001b[0;31m \u001b[0mmake_trans\u001b[0m\u001b[0;34m(\u001b[0m\u001b[0;36m100\u001b[0m\u001b[0;34m,\u001b[0m \u001b[0;36m1\u001b[0m\u001b[0;34m,\u001b[0m \u001b[0;36m100\u001b[0m\u001b[0;34m)\u001b[0m\u001b[0;34m\u001b[0m\u001b[0m\n\u001b[0m",
      "\u001b[0;32m<ipython-input-38-19658afb7af7>\u001b[0m in \u001b[0;36mmake_trans\u001b[0;34m(from_id, to_id, amount)\u001b[0m\n\u001b[1;32m      7\u001b[0m \u001b[0;32mdef\u001b[0m \u001b[0mmake_trans\u001b[0m\u001b[0;34m(\u001b[0m\u001b[0mfrom_id\u001b[0m\u001b[0;34m,\u001b[0m \u001b[0mto_id\u001b[0m\u001b[0;34m,\u001b[0m \u001b[0mamount\u001b[0m\u001b[0;34m)\u001b[0m\u001b[0;34m:\u001b[0m\u001b[0;34m\u001b[0m\u001b[0m\n\u001b[1;32m      8\u001b[0m     \u001b[0msql_check_amount\u001b[0m \u001b[0;34m=\u001b[0m \u001b[0;34m'select amount from accounts where id = ?'\u001b[0m\u001b[0;34m\u001b[0m\u001b[0m\n\u001b[0;32m----> 9\u001b[0;31m     \u001b[0mavailable\u001b[0m \u001b[0;34m=\u001b[0m \u001b[0mcursor\u001b[0m\u001b[0;34m.\u001b[0m\u001b[0mexecute\u001b[0m\u001b[0;34m(\u001b[0m\u001b[0msql_check_amount\u001b[0m\u001b[0;34m,\u001b[0m \u001b[0;34m(\u001b[0m\u001b[0mfrom_id\u001b[0m\u001b[0;34m,\u001b[0m\u001b[0;34m)\u001b[0m\u001b[0;34m)\u001b[0m\u001b[0;34m.\u001b[0m\u001b[0mfetchone\u001b[0m\u001b[0;34m(\u001b[0m\u001b[0;34m)\u001b[0m\u001b[0;34m[\u001b[0m\u001b[0;36m0\u001b[0m\u001b[0;34m]\u001b[0m\u001b[0;34m\u001b[0m\u001b[0m\n\u001b[0m\u001b[1;32m     10\u001b[0m     \u001b[0;32mif\u001b[0m \u001b[0mavailable\u001b[0m \u001b[0;34m<\u001b[0m \u001b[0mamount\u001b[0m\u001b[0;34m:\u001b[0m\u001b[0;34m\u001b[0m\u001b[0m\n\u001b[1;32m     11\u001b[0m         \u001b[0;32mraise\u001b[0m \u001b[0mInsufficientAmount\u001b[0m\u001b[0;34m\u001b[0m\u001b[0m\n",
      "\u001b[0;31mTypeError\u001b[0m: 'NoneType' object is not subscriptable"
     ]
    }
   ],
   "source": [
    "make_trans(100, 1, 100)"
   ]
  },
  {
   "cell_type": "markdown",
   "metadata": {},
   "source": [
    "You can also use the connection with a context manager: changes are automatically committed if no exception occurs. In case of an exception, the changes are rolled back:"
   ]
  },
  {
   "cell_type": "code",
   "execution_count": null,
   "metadata": {
    "collapsed": true
   },
   "outputs": [],
   "source": [
    "##code to make an tran    "
   ]
  },
  {
   "cell_type": "markdown",
   "metadata": {},
   "source": [
    "## Now we load the dataset\n",
    "\n",
    "I'm so **excited** we finally load the dataset"
   ]
  },
  {
   "cell_type": "code",
   "execution_count": 45,
   "metadata": {
    "collapsed": false
   },
   "outputs": [
    {
     "name": "stdout",
     "output_type": "stream",
     "text": [
      "30\n"
     ]
    }
   ],
   "source": [
    "def load_data(filename):\n",
    "    pass\n",
    "\n",
    "print(5 * 6)"
   ]
  },
  {
   "cell_type": "code",
   "execution_count": null,
   "metadata": {
    "collapsed": true
   },
   "outputs": [],
   "source": []
  }
 ],
 "metadata": {
  "kernelspec": {
   "display_name": "Python 3",
   "language": "python",
   "name": "python3"
  },
  "language_info": {
   "codemirror_mode": {
    "name": "ipython",
    "version": 3
   },
   "file_extension": ".py",
   "mimetype": "text/x-python",
   "name": "python",
   "nbconvert_exporter": "python",
   "pygments_lexer": "ipython3",
   "version": "3.6.0"
  }
 },
 "nbformat": 4,
 "nbformat_minor": 0
}
