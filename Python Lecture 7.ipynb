{
 "cells": [
  {
   "cell_type": "markdown",
   "metadata": {},
   "source": [
    "# Python Lecture 7: functional programming in Python\n",
    "\n",
    "Topics of today:\n",
    "\n",
    "* \"functions are values too\" (functions as first class objects)\n",
    "* `map`, `filter` and list comprehensions\n",
    "* `lambda` and anonymous functions\n",
    "* **functional programming = functions are \"first class citizens\" = functions are values**\n",
    "* functions can get functions as parameters and return functions as values\n",
    "\n",
    "## Recall\n",
    "functions are defined using ``def``"
   ]
  },
  {
   "cell_type": "code",
   "execution_count": 11,
   "metadata": {
    "collapsed": false
   },
   "outputs": [
    {
     "data": {
      "text/plain": [
       "16"
      ]
     },
     "execution_count": 11,
     "metadata": {},
     "output_type": "execute_result"
    }
   ],
   "source": [
    "def square(x):\n",
    "    return x ** 2\n",
    "\n",
    "square(4)"
   ]
  },
  {
   "cell_type": "markdown",
   "metadata": {},
   "source": [
    "### Functions are values, too\n",
    "\n",
    "We can assign functions to variables (`my_function`)."
   ]
  },
  {
   "cell_type": "code",
   "execution_count": 4,
   "metadata": {
    "collapsed": false
   },
   "outputs": [
    {
     "data": {
      "text/plain": [
       "17"
      ]
     },
     "execution_count": 4,
     "metadata": {},
     "output_type": "execute_result"
    }
   ],
   "source": [
    "my_function = square\n",
    "my_function(4)"
   ]
  },
  {
   "cell_type": "markdown",
   "metadata": {},
   "source": [
    "## Functions as parameters\n",
    "* we can give a function to another function as a parameter:\n",
    "* Many functions in Python take other functions as parameters in order to customize their behavior:"
   ]
  },
  {
   "cell_type": "code",
   "execution_count": 5,
   "metadata": {
    "collapsed": false
   },
   "outputs": [
    {
     "name": "stdout",
     "output_type": "stream",
     "text": [
      "[1, 2, 4, 7, 8, 13, 21, 44, 111]\n",
      "[1, 111, 13, 2, 21, 4, 44, 7, 8]\n"
     ]
    }
   ],
   "source": [
    "numbers = [7, 44, 13, 21, 4, 2, 8, 1, 111 ]\n",
    "print(sorted(numbers))\n",
    "print(sorted(numbers, key=str))\n",
    "\n",
    "# sort [str(7), str(44), str(13),... ]"
   ]
  },
  {
   "cell_type": "markdown",
   "metadata": {},
   "source": [
    "Observe that we can change the way `numbers` is sorted by passing a function as `key`. The `key` function will be executed for each value and the values in `numbers` are sorted according to the values of the `key` function. \n",
    "\n",
    "For example, let us sort number so that all the even number are before all the odd numbers and that even and odd numbers are sorted descendingly:"
   ]
  },
  {
   "cell_type": "code",
   "execution_count": 6,
   "metadata": {
    "collapsed": false
   },
   "outputs": [
    {
     "data": {
      "text/plain": [
       "[44, 8, 4, 2, 111, 21, 13, 7, 1]"
      ]
     },
     "execution_count": 6,
     "metadata": {},
     "output_type": "execute_result"
    }
   ],
   "source": [
    "def my_key(n):\n",
    "    return n % 2, -n\n",
    "\n",
    "sorted(numbers, key=my_key)"
   ]
  },
  {
   "cell_type": "markdown",
   "metadata": {},
   "source": [
    "Another example involves dictionaries. We cannot sort lists containing dictionaries:"
   ]
  },
  {
   "cell_type": "code",
   "execution_count": 7,
   "metadata": {
    "collapsed": false
   },
   "outputs": [
    {
     "ename": "TypeError",
     "evalue": "'<' not supported between instances of 'dict' and 'dict'",
     "output_type": "error",
     "traceback": [
      "\u001b[0;31m---------------------------------------------------------------------------\u001b[0m",
      "\u001b[0;31mTypeError\u001b[0m                                 Traceback (most recent call last)",
      "\u001b[0;32m<ipython-input-7-89c624c769a6>\u001b[0m in \u001b[0;36m<module>\u001b[0;34m()\u001b[0m\n\u001b[1;32m      3\u001b[0m         \u001b[0;34m{\u001b[0m\u001b[0;34m'name'\u001b[0m\u001b[0;34m:\u001b[0m \u001b[0;34m'bill'\u001b[0m\u001b[0;34m,\u001b[0m \u001b[0;34m'age'\u001b[0m\u001b[0;34m:\u001b[0m \u001b[0;36m21\u001b[0m\u001b[0;34m}\u001b[0m\u001b[0;34m,\u001b[0m\u001b[0;34m\u001b[0m\u001b[0m\n\u001b[1;32m      4\u001b[0m         {'name': 'charlie', 'age': 45}]\n\u001b[0;32m----> 5\u001b[0;31m \u001b[0mprint\u001b[0m\u001b[0;34m(\u001b[0m\u001b[0msorted\u001b[0m\u001b[0;34m(\u001b[0m\u001b[0mdata\u001b[0m\u001b[0;34m)\u001b[0m\u001b[0;34m)\u001b[0m\u001b[0;34m\u001b[0m\u001b[0m\n\u001b[0m",
      "\u001b[0;31mTypeError\u001b[0m: '<' not supported between instances of 'dict' and 'dict'"
     ]
    }
   ],
   "source": [
    "data = [{'name': 'paul', 'age': 12}, \n",
    "        {'name': 'alex', 'age': 34},   \n",
    "        {'name': 'bill', 'age': 21}, \n",
    "        {'name': 'charlie', 'age': 45}]\n",
    "print(sorted(data))"
   ]
  },
  {
   "cell_type": "code",
   "execution_count": 9,
   "metadata": {
    "collapsed": false
   },
   "outputs": [
    {
     "name": "stdout",
     "output_type": "stream",
     "text": [
      "[{'name': 'alex', 'age': 34}, {'name': 'bill', 'age': 21}, {'name': 'charlie', 'age': 45}, {'name': 'paul', 'age': 12}]\n"
     ]
    }
   ],
   "source": [
    "def name_key(d):\n",
    "    return d['name']\n",
    "\n",
    "print(sorted(data, key=name_key))"
   ]
  },
  {
   "cell_type": "code",
   "execution_count": 8,
   "metadata": {
    "collapsed": false
   },
   "outputs": [
    {
     "name": "stdout",
     "output_type": "stream",
     "text": [
      "[{'name': 'paul', 'age': 12}, {'name': 'bill', 'age': 21}, {'name': 'alex', 'age': 34}, {'name': 'charlie', 'age': 45}]\n"
     ]
    }
   ],
   "source": [
    "def age_key(d):\n",
    "    return d['age']\n",
    "\n",
    "print(sorted(data, key=age_key))"
   ]
  },
  {
   "cell_type": "markdown",
   "metadata": {},
   "source": [
    "We can also define our own functions which accepts functions as parameters:"
   ]
  },
  {
   "cell_type": "code",
   "execution_count": 12,
   "metadata": {
    "collapsed": false
   },
   "outputs": [
    {
     "data": {
      "text/plain": [
       "16"
      ]
     },
     "execution_count": 12,
     "metadata": {},
     "output_type": "execute_result"
    }
   ],
   "source": [
    "def apply(f, x):\n",
    "    return f(x)\n",
    "\n",
    "apply(square, 4)"
   ]
  },
  {
   "cell_type": "markdown",
   "metadata": {},
   "source": [
    "## Higher order functions\n",
    "\n",
    "Higher order functions are functions that take functions as values or return functions\n",
    "\n",
    "One important higher order function is ``map``: map takes a function and array(s) (one for each parameter of the function) and returns an iteratble which contains the results of the functions applied to each element of the array "
   ]
  },
  {
   "cell_type": "code",
   "execution_count": 13,
   "metadata": {
    "collapsed": false
   },
   "outputs": [
    {
     "data": {
      "text/plain": [
       "[0, 1, 4, 9, 16, 25, 36, 49, 64, 81]"
      ]
     },
     "execution_count": 13,
     "metadata": {},
     "output_type": "execute_result"
    }
   ],
   "source": [
    "a = range(10)\n",
    "list(map(square, a))"
   ]
  },
  {
   "cell_type": "markdown",
   "metadata": {},
   "source": [
    "Hence `map` is similar both to the `for` loop or the list comprehension below:"
   ]
  },
  {
   "cell_type": "code",
   "execution_count": null,
   "metadata": {
    "collapsed": false
   },
   "outputs": [],
   "source": [
    "result = []\n",
    "for x in a:\n",
    "    result.append(square(x))\n",
    "    \n",
    "result2 = [square(x) for x in a]\n",
    "result2"
   ]
  },
  {
   "cell_type": "code",
   "execution_count": 18,
   "metadata": {
    "collapsed": false
   },
   "outputs": [
    {
     "name": "stdout",
     "output_type": "stream",
     "text": [
      "['paul', 'alex', 'bill', 'charlie']\n",
      "[12, 34, 21, 45]\n"
     ]
    },
    {
     "data": {
      "text/plain": [
       "[12, 34, 21, 45]"
      ]
     },
     "execution_count": 18,
     "metadata": {},
     "output_type": "execute_result"
    }
   ],
   "source": [
    "print(list(map(name_key, data))) # print all the names in data\n",
    "print(list(map(age_key, data))) # print all ages\n",
    "\n",
    "[age_key(p) for p in data]\n",
    "[p['age'] for p in data] # same as above"
   ]
  },
  {
   "cell_type": "markdown",
   "metadata": {},
   "source": [
    "Since list comprehensions are so much easier to read, most Python programmers prefer them over `map` (and `filter`, see below).\n",
    "\n",
    "`map` can also be used with functions with more than one argument. Then it takes as many lists as arguments as the function being mapped takes:"
   ]
  },
  {
   "cell_type": "code",
   "execution_count": 19,
   "metadata": {
    "collapsed": false
   },
   "outputs": [
    {
     "data": {
      "text/plain": [
       "[10, 12, 14, 16, 18, 20, 22, 24, 26, 28]"
      ]
     },
     "execution_count": 19,
     "metadata": {},
     "output_type": "execute_result"
    }
   ],
   "source": [
    "b = range(10,20)\n",
    "\n",
    "def add(a, b):\n",
    "    return a + b\n",
    "\n",
    "list(map(add, a, b))"
   ]
  },
  {
   "cell_type": "markdown",
   "metadata": {},
   "source": [
    "Also this last map could be written as a list comprehension:"
   ]
  },
  {
   "cell_type": "code",
   "execution_count": 20,
   "metadata": {
    "collapsed": false
   },
   "outputs": [
    {
     "data": {
      "text/plain": [
       "[10, 12, 14, 16, 18, 20, 22, 24, 26, 28]"
      ]
     },
     "execution_count": 20,
     "metadata": {},
     "output_type": "execute_result"
    }
   ],
   "source": [
    "[x + y for x, y in zip(a, b)]"
   ]
  },
  {
   "cell_type": "markdown",
   "metadata": {},
   "source": [
    "`zip` takes two lists  and returns a list of pairs:"
   ]
  },
  {
   "cell_type": "code",
   "execution_count": 22,
   "metadata": {
    "collapsed": false
   },
   "outputs": [
    {
     "data": {
      "text/plain": [
       "[('x', 1), ('y', 2), ('z', 4)]"
      ]
     },
     "execution_count": 22,
     "metadata": {},
     "output_type": "execute_result"
    }
   ],
   "source": [
    "chars = ['x', 'y', 'z']\n",
    "nums = [1, 2, 4]\n",
    "list(zip(chars, nums))"
   ]
  },
  {
   "cell_type": "markdown",
   "metadata": {},
   "source": [
    "suddenly `map` appears to give shorter code...\n",
    "\n",
    "Another important function is the `filter` function. It makes a **predicate** (a function returning Boolean values) and forms sublist of all the elements of a list for which the predicate gives `True`:"
   ]
  },
  {
   "cell_type": "code",
   "execution_count": 23,
   "metadata": {
    "collapsed": false
   },
   "outputs": [
    {
     "data": {
      "text/plain": [
       "[2, 8, 12, 18, 10]"
      ]
     },
     "execution_count": 23,
     "metadata": {},
     "output_type": "execute_result"
    }
   ],
   "source": [
    "def is_even(x):\n",
    "    return x % 2 == 0\n",
    "\n",
    "numbers = [2, 5, 7, 8, 12, 17, 18, 10]\n",
    "list(filter(is_even, numbers))"
   ]
  },
  {
   "cell_type": "markdown",
   "metadata": {},
   "source": [
    "again, we could rewrite the filter using a `for` loop or a list comprehension:"
   ]
  },
  {
   "cell_type": "code",
   "execution_count": null,
   "metadata": {
    "collapsed": false
   },
   "outputs": [],
   "source": [
    "result = []\n",
    "for x in numbers:\n",
    "    if is_even(x):\n",
    "        result.append(x)\n",
    "        \n",
    "[x for x in numbers if is_even(x)]"
   ]
  },
  {
   "cell_type": "markdown",
   "metadata": {},
   "source": [
    "## The operator package\n",
    "\n",
    "The operator package contains many functions which can be used with map:\n",
    "\n",
    "* ``add`` for addition\n",
    "* ``mul`` for multiplication"
   ]
  },
  {
   "cell_type": "code",
   "execution_count": null,
   "metadata": {
    "collapsed": false
   },
   "outputs": [],
   "source": [
    "import operator\n",
    "\n",
    "print(list(map(operator.add, a, b)))\n",
    "print(list(map(operator.mul, a, b)))"
   ]
  },
  {
   "cell_type": "markdown",
   "metadata": {},
   "source": [
    "### Lambda expressions\n",
    "\n",
    "* Sometimes we just need a function a single time. \n",
    "* can use *lambda expression* (anonymous function) for that"
   ]
  },
  {
   "cell_type": "code",
   "execution_count": 26,
   "metadata": {
    "collapsed": false
   },
   "outputs": [
    {
     "data": {
      "text/plain": [
       "25"
      ]
     },
     "execution_count": 26,
     "metadata": {},
     "output_type": "execute_result"
    }
   ],
   "source": [
    "(lambda x: x ** 2)(5)"
   ]
  },
  {
   "cell_type": "code",
   "execution_count": 25,
   "metadata": {
    "collapsed": false
   },
   "outputs": [
    {
     "data": {
      "text/plain": [
       "16"
      ]
     },
     "execution_count": 25,
     "metadata": {},
     "output_type": "execute_result"
    }
   ],
   "source": [
    "square_again = lambda x: x ** 2\n",
    "square_again(4)"
   ]
  },
  {
   "cell_type": "code",
   "execution_count": 27,
   "metadata": {
    "collapsed": false
   },
   "outputs": [
    {
     "data": {
      "text/plain": [
       "[{'age': 12, 'name': 'paul'},\n",
       " {'age': 21, 'name': 'bill'},\n",
       " {'age': 34, 'name': 'alex'},\n",
       " {'age': 45, 'name': 'charlie'}]"
      ]
     },
     "execution_count": 27,
     "metadata": {},
     "output_type": "execute_result"
    }
   ],
   "source": [
    "sorted(data, key=lambda d: d['age'])"
   ]
  },
  {
   "cell_type": "code",
   "execution_count": null,
   "metadata": {
    "collapsed": false
   },
   "outputs": [],
   "source": [
    "l = range(10)\n",
    "\n",
    "list(map(lambda x: x + 2, l))\n",
    "\n",
    "add_seven = lambda x: x + 7\n",
    "print(add_seven(4))\n",
    "\n",
    "(lambda a: a ** 2)(3)"
   ]
  },
  {
   "cell_type": "markdown",
   "metadata": {},
   "source": [
    "A lambda expression is just a function without a name. \n",
    "\n",
    "Often used in `map`. But list comprehensions offer a better (more Pythonic...) way of doing things.\n",
    "\n",
    "### Special functions on lists\n",
    "\n",
    "* ``max`` returns biggest element\n",
    "* ``min`` returns smallest element\n",
    "* ``sum`` sums up a list of numbers"
   ]
  },
  {
   "cell_type": "code",
   "execution_count": 28,
   "metadata": {
    "collapsed": false
   },
   "outputs": [
    {
     "data": {
      "text/plain": [
       "7"
      ]
     },
     "execution_count": 28,
     "metadata": {},
     "output_type": "execute_result"
    }
   ],
   "source": [
    "sum([1, 2, 4])"
   ]
  },
  {
   "cell_type": "code",
   "execution_count": 30,
   "metadata": {
    "collapsed": false
   },
   "outputs": [
    {
     "data": {
      "text/plain": [
       "1"
      ]
     },
     "execution_count": 30,
     "metadata": {},
     "output_type": "execute_result"
    }
   ],
   "source": [
    "min([4, 5, 6, 1])"
   ]
  },
  {
   "cell_type": "markdown",
   "metadata": {},
   "source": [
    "### Exercise:\n",
    "\n",
    "write a function ``prod`` which calculates the product of a list of numbers"
   ]
  },
  {
   "cell_type": "code",
   "execution_count": 33,
   "metadata": {
    "collapsed": false
   },
   "outputs": [
    {
     "data": {
      "text/plain": [
       "True"
      ]
     },
     "execution_count": 33,
     "metadata": {},
     "output_type": "execute_result"
    }
   ],
   "source": [
    "def prod(a):\n",
    "    result = 1\n",
    "    for x in a:\n",
    "        result = result * x\n",
    "    return result\n",
    "prod([2, 3, 4, 5]) == 120"
   ]
  },
  {
   "cell_type": "markdown",
   "metadata": {},
   "source": [
    "## Exercise:\n",
    "\n",
    "What would we need to do to change this function to a definition of ``sum``?"
   ]
  },
  {
   "cell_type": "code",
   "execution_count": 34,
   "metadata": {
    "collapsed": false
   },
   "outputs": [
    {
     "data": {
      "text/plain": [
       "9"
      ]
     },
     "execution_count": 34,
     "metadata": {},
     "output_type": "execute_result"
    }
   ],
   "source": [
    "def summ(a):\n",
    "    result = 0\n",
    "    for x in a:\n",
    "        result = result + x\n",
    "    return result\n",
    "\n",
    "summ([1, 3, 5])"
   ]
  },
  {
   "cell_type": "markdown",
   "metadata": {},
   "source": [
    "## Exercise:\n",
    "\n",
    "Can you write a higher order function which uses a function parameter to abstract this pattern:"
   ]
  },
  {
   "cell_type": "code",
   "execution_count": 45,
   "metadata": {
    "collapsed": false
   },
   "outputs": [
    {
     "name": "stdout",
     "output_type": "stream",
     "text": [
      "\n",
      "a\n",
      "bb\n",
      "ccc\n",
      "(a, bb, ccc)\n"
     ]
    }
   ],
   "source": [
    "def mul(x, y):\n",
    "    return x * y\n",
    "\n",
    "def reduce(op, initial_value, a):\n",
    "    result = initial_value\n",
    "    for x in a:\n",
    "        result = op(result, x)\n",
    "    return result\n",
    "\n",
    "reduce(add, 0, [2, 3, 4])\n",
    "reduce(mul, 1, [2, 3, 4])\n",
    "\n",
    "print(reduce(lambda x, y: x + '\\n' + y, \"\", [\"a\", \"bb\", \"ccc\"]))\n",
    "a = [\"a\", \"bb\", \"ccc\"]\n",
    "print(reduce(lambda x, y: x + \", \" + y, \"(\" + a[0], a[1:]) +')')\n"
   ]
  },
  {
   "cell_type": "markdown",
   "metadata": {},
   "source": [
    "## Functions returning functions: "
   ]
  },
  {
   "cell_type": "code",
   "execution_count": 46,
   "metadata": {
    "collapsed": false
   },
   "outputs": [
    {
     "data": {
      "text/plain": [
       "7"
      ]
     },
     "execution_count": 46,
     "metadata": {},
     "output_type": "execute_result"
    }
   ],
   "source": [
    "def make_adder(x):\n",
    "    def add(y):\n",
    "        return x + y\n",
    "    return add\n",
    "\n",
    "add_three = make_adder(3)\n",
    "add_three(4)"
   ]
  },
  {
   "cell_type": "code",
   "execution_count": null,
   "metadata": {
    "collapsed": true
   },
   "outputs": [],
   "source": []
  },
  {
   "cell_type": "markdown",
   "metadata": {},
   "source": [
    "## Exercise: inner functions and closures\n",
    "\n",
    "Write a function which takes an operator and an initial value. It should return a function which takes a list and applies the operator to the list successively:"
   ]
  },
  {
   "cell_type": "code",
   "execution_count": 47,
   "metadata": {
    "collapsed": false
   },
   "outputs": [
    {
     "data": {
      "text/plain": [
       "6"
      ]
     },
     "execution_count": 47,
     "metadata": {},
     "output_type": "execute_result"
    }
   ],
   "source": [
    "def reduce (op, i, a):\n",
    "    r = i\n",
    "    for x in a:\n",
    "        r = op(r, x)\n",
    "    return r\n",
    "\n",
    "reduce(add, 0, [1,2, 3])"
   ]
  },
  {
   "cell_type": "markdown",
   "metadata": {},
   "source": [
    "This is called a **closure**"
   ]
  },
  {
   "cell_type": "code",
   "execution_count": 48,
   "metadata": {
    "collapsed": false
   },
   "outputs": [
    {
     "data": {
      "text/plain": [
       "8"
      ]
     },
     "execution_count": 48,
     "metadata": {},
     "output_type": "execute_result"
    }
   ],
   "source": [
    "def make_fold(op, i):\n",
    "    def inner(alist):\n",
    "        return reduce(op, i , alist)\n",
    "    return inner\n",
    "\n",
    "prod = make_fold(mul, 1)\n",
    "prod([1, 2, 4])"
   ]
  },
  {
   "cell_type": "code",
   "execution_count": 49,
   "metadata": {
    "collapsed": false
   },
   "outputs": [
    {
     "data": {
      "text/plain": [
       "14"
      ]
     },
     "execution_count": 49,
     "metadata": {},
     "output_type": "execute_result"
    }
   ],
   "source": [
    "summ = make_fold(add, 0)\n",
    "summ([1, 3, 4, 6])"
   ]
  },
  {
   "cell_type": "code",
   "execution_count": 19,
   "metadata": {
    "collapsed": true
   },
   "outputs": [],
   "source": [
    "def decor(fun):\n",
    "    def inner(x):\n",
    "        print(\"hello dear teacher!\")\n",
    "        fun(x)\n",
    "    return inner\n",
    "\n",
    "def print_message(msg):\n",
    "    print(\"hello, \" + msg)"
   ]
  },
  {
   "cell_type": "code",
   "execution_count": 51,
   "metadata": {
    "collapsed": false
   },
   "outputs": [
    {
     "name": "stdout",
     "output_type": "stream",
     "text": [
      "hello, world\n"
     ]
    }
   ],
   "source": [
    "print_message('world')"
   ]
  },
  {
   "cell_type": "code",
   "execution_count": 52,
   "metadata": {
    "collapsed": false
   },
   "outputs": [
    {
     "name": "stdout",
     "output_type": "stream",
     "text": [
      "hello dear teacher!\n",
      "hello, world\n"
     ]
    }
   ],
   "source": [
    "decor(print_message)('world')"
   ]
  },
  {
   "cell_type": "code",
   "execution_count": 53,
   "metadata": {
    "collapsed": false
   },
   "outputs": [
    {
     "name": "stdout",
     "output_type": "stream",
     "text": [
      "hello dear teacher!\n",
      "hello, world\n"
     ]
    }
   ],
   "source": [
    "print_message = decor(print_message)\n",
    "print_message('world')"
   ]
  },
  {
   "cell_type": "code",
   "execution_count": 56,
   "metadata": {
    "collapsed": true
   },
   "outputs": [],
   "source": [
    "def print_another_message(msg):\n",
    "    print('why are we doing this, ' + msg + '?')"
   ]
  },
  {
   "cell_type": "code",
   "execution_count": 57,
   "metadata": {
    "collapsed": false
   },
   "outputs": [
    {
     "name": "stdout",
     "output_type": "stream",
     "text": [
      "hello dear teacher!\n",
      "why are we doing this, teacher?\n"
     ]
    }
   ],
   "source": [
    "print_another_message = decor(print_another_message)\n",
    "print_another_message('teacher')"
   ]
  },
  {
   "cell_type": "code",
   "execution_count": 59,
   "metadata": {
    "collapsed": false
   },
   "outputs": [
    {
     "name": "stdout",
     "output_type": "stream",
     "text": [
      "hello dear teacher!\n",
      "still no clue, teacher!\n"
     ]
    }
   ],
   "source": [
    "@decor\n",
    "def print_third_message(msg):\n",
    "    print('still no clue, ' + msg + '!')\n",
    "    \n",
    "print_third_message('teacher')"
   ]
  },
  {
   "cell_type": "markdown",
   "metadata": {},
   "source": [
    "## Example: calculate how long a function takes to execute"
   ]
  },
  {
   "cell_type": "code",
   "execution_count": 4,
   "metadata": {
    "collapsed": false
   },
   "outputs": [
    {
     "name": "stdout",
     "output_type": "stream",
     "text": [
      "it took 1.2381513118743896\n"
     ]
    }
   ],
   "source": [
    "def slow_function():\n",
    "    for i in range(30000):\n",
    "        2 ** i\n",
    "\n",
    "import time\n",
    "start = time.time()\n",
    "slow_function()\n",
    "end = time.time()\n",
    "print('it took', end - start)"
   ]
  },
  {
   "cell_type": "code",
   "execution_count": 5,
   "metadata": {
    "collapsed": true
   },
   "outputs": [],
   "source": [
    "def slower_function():\n",
    "    for i in range(50000):\n",
    "        2 ** i"
   ]
  },
  {
   "cell_type": "code",
   "execution_count": 6,
   "metadata": {
    "collapsed": false
   },
   "outputs": [
    {
     "name": "stdout",
     "output_type": "stream",
     "text": [
      "it took 3.6430678367614746\n"
     ]
    }
   ],
   "source": [
    "start = time.time()\n",
    "slower_function()\n",
    "end = time.time()\n",
    "print('it took', end - start)"
   ]
  },
  {
   "cell_type": "code",
   "execution_count": 7,
   "metadata": {
    "collapsed": false
   },
   "outputs": [
    {
     "name": "stdout",
     "output_type": "stream",
     "text": [
      "it took 1.2432270050048828\n"
     ]
    }
   ],
   "source": [
    "def time_a_function(f):\n",
    "    start = time.time()\n",
    "    f()\n",
    "    end = time.time()\n",
    "    print('it took', end - start)\n",
    "    \n",
    "time_a_function(slow_function)"
   ]
  },
  {
   "cell_type": "code",
   "execution_count": 24,
   "metadata": {
    "collapsed": false
   },
   "outputs": [],
   "source": [
    "def make_timer(f):\n",
    "    def time_a_function():\n",
    "        start = time.time()\n",
    "        f()\n",
    "        end = time.time()\n",
    "        print('it took', end - start)\n",
    "    return time_a_function\n",
    "\n",
    "\n",
    "@make_timer\n",
    "def timed_slow_function():\n",
    "    for i in range(30000):\n",
    "        2 ** i\n",
    "    print('done')"
   ]
  },
  {
   "cell_type": "code",
   "execution_count": 25,
   "metadata": {
    "collapsed": false
   },
   "outputs": [
    {
     "name": "stdout",
     "output_type": "stream",
     "text": [
      "done\n",
      "it took 1.2675249576568604\n"
     ]
    }
   ],
   "source": [
    "timed_slow_function()"
   ]
  },
  {
   "cell_type": "code",
   "execution_count": null,
   "metadata": {
    "collapsed": true
   },
   "outputs": [],
   "source": []
  }
 ],
 "metadata": {
  "kernelspec": {
   "display_name": "Python 3",
   "language": "python",
   "name": "python3"
  },
  "language_info": {
   "codemirror_mode": {
    "name": "ipython",
    "version": 3
   },
   "file_extension": ".py",
   "mimetype": "text/x-python",
   "name": "python",
   "nbconvert_exporter": "python",
   "pygments_lexer": "ipython3",
   "version": "3.6.0"
  }
 },
 "nbformat": 4,
 "nbformat_minor": 0
}
